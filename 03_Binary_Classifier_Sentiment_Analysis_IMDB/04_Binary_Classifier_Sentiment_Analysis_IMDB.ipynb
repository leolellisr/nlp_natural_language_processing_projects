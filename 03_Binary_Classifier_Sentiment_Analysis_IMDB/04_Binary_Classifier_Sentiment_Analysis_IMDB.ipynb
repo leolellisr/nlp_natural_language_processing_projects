{
  "nbformat": 4,
  "nbformat_minor": 0,
  "metadata": {
    "colab": {
      "name": "Aula 4 - Exercício_261900_Leonardo_de_Lellis_Rossi",
      "provenance": [],
      "collapsed_sections": [],
      "include_colab_link": true
    },
    "kernelspec": {
      "name": "python3",
      "display_name": "Python 3"
    },
    "accelerator": "GPU"
  },
  "cells": [
    {
      "cell_type": "markdown",
      "metadata": {
        "id": "view-in-github",
        "colab_type": "text"
      },
      "source": [
        "<a href=\"https://colab.research.google.com/github/leolellisr/npl_natural_language_processing_projects/blob/main/03_Binary_Classifier_Sentiment_Analysis_IMDB/04_Binary_Classifier_Sentiment_Analysis_IMDB.ipynb\" target=\"_parent\"><img src=\"https://colab.research.google.com/assets/colab-badge.svg\" alt=\"Open In Colab\"/></a>"
      ]
    },
    {
      "cell_type": "markdown",
      "metadata": {
        "id": "1OG5DT_dm6mk"
      },
      "source": [
        "# Notebook de referência \n",
        "\n",
        "Nome: Leonardo de Lellis Rossi"
      ]
    },
    {
      "cell_type": "markdown",
      "metadata": {
        "id": "Od7iUgHy5SSi"
      },
      "source": [
        "## Instruções\n",
        "\n",
        "- Treinar uma rede neural como classificador binário na tarefa de análise de sentimentos usando dataset IMDB.\n",
        "\n",
        "- Experimentar e reportar a acurácia usando 3 diferentes tipos de features como entrada:\n",
        "    1) Bag-of-words booleano\n",
        "    2) Bag-of-words com contagem das palavras (histograma das palavras)\n",
        "    3) TF-IDF\n",
        "\n",
        "Deve-se implementar o laço de treinamento e validação da rede neural.\n",
        "\n",
        "Neste exercício usaremos o IMDB com 20l exemplos para treino, 5k para desenvolvimento e 25k para teste."
      ]
    },
    {
      "cell_type": "markdown",
      "metadata": {
        "id": "CXFdJz2KVeQw"
      },
      "source": [
        "## Preparando Dados"
      ]
    },
    {
      "cell_type": "markdown",
      "metadata": {
        "id": "gHMi_Kq65fPM"
      },
      "source": [
        "Primeiro, fazemos download do dataset:"
      ]
    },
    {
      "cell_type": "code",
      "metadata": {
        "id": "2wbnfzst5O3k",
        "colab": {
          "base_uri": "https://localhost:8080/"
        },
        "outputId": "72949e3b-5239-4731-a909-a18e82e6a9f3"
      },
      "source": [
        "!wget -nc http://files.fast.ai/data/aclImdb.tgz \n",
        "!tar -xzf aclImdb.tgz\n"
      ],
      "execution_count": null,
      "outputs": [
        {
          "output_type": "stream",
          "name": "stdout",
          "text": [
            "--2021-09-09 00:17:39--  http://files.fast.ai/data/aclImdb.tgz\n",
            "Resolving files.fast.ai (files.fast.ai)... 104.26.3.19, 104.26.2.19, 172.67.69.159, ...\n",
            "Connecting to files.fast.ai (files.fast.ai)|104.26.3.19|:80... connected.\n",
            "HTTP request sent, awaiting response... 301 Moved Permanently\n",
            "Location: https://files.fast.ai/data/aclImdb.tgz [following]\n",
            "--2021-09-09 00:17:40--  https://files.fast.ai/data/aclImdb.tgz\n",
            "Connecting to files.fast.ai (files.fast.ai)|104.26.3.19|:443... connected.\n",
            "HTTP request sent, awaiting response... 200 OK\n",
            "Length: 145982645 (139M) [application/x-gtar-compressed]\n",
            "Saving to: ‘aclImdb.tgz’\n",
            "\n",
            "aclImdb.tgz         100%[===================>] 139.22M  40.9MB/s    in 3.6s    \n",
            "\n",
            "2021-09-09 00:17:44 (38.3 MB/s) - ‘aclImdb.tgz’ saved [145982645/145982645]\n",
            "\n"
          ]
        }
      ]
    },
    {
      "cell_type": "markdown",
      "metadata": {
        "id": "0Giyi5Rv_NIm"
      },
      "source": [
        "## Carregando o dataset\n",
        "\n",
        "Criaremos uma divisão de treino (80%) e validação (20%) artificialmente.\n",
        "\n",
        "Nota: Evitar de olhar ao máximo o dataset de teste para não ficar enviseado no que será testado. Em aplicações reais, o dataset de teste só estará disponível no futuro, ou seja, é quando o usuário começa a testar o seu produto."
      ]
    },
    {
      "cell_type": "code",
      "metadata": {
        "id": "0HIN_xLI_TuT",
        "colab": {
          "base_uri": "https://localhost:8080/"
        },
        "outputId": "05b2b6af-46a4-4a04-c0b1-dc30728d7701"
      },
      "source": [
        "import os\n",
        "import random\n",
        "\n",
        "\n",
        "def load_texts(folder):\n",
        "    texts = []\n",
        "    for path in os.listdir(folder):\n",
        "        with open(os.path.join(folder, path)) as f:\n",
        "            texts.append(f.read())\n",
        "    return texts\n",
        "\n",
        "x_train_pos = load_texts('aclImdb/train/pos')\n",
        "x_train_neg = load_texts('aclImdb/train/neg')\n",
        "x_test_pos = load_texts('aclImdb/test/pos')\n",
        "x_test_neg = load_texts('aclImdb/test/neg')\n",
        "\n",
        "x_train = x_train_pos + x_train_neg\n",
        "x_test = x_test_pos + x_test_neg\n",
        "y_train = [True] * len(x_train_pos) + [False] * len(x_train_neg)\n",
        "y_test = [True] * len(x_test_pos) + [False] * len(x_test_neg)\n",
        "\n",
        "# Embaralhamos o treino para depois fazermos a divisão treino/valid.\n",
        "c = list(zip(x_train, y_train))\n",
        "random.shuffle(c)\n",
        "x_train, y_train = zip(*c)\n",
        "\n",
        "n_train = int(0.8 * len(x_train))\n",
        "\n",
        "x_valid = x_train[n_train:]\n",
        "y_valid = y_train[n_train:]\n",
        "x_train = x_train[:n_train]\n",
        "y_train = y_train[:n_train]\n",
        "\n",
        "print(len(x_train), 'amostras de treino.')\n",
        "print(len(x_valid), 'amostras de desenvolvimento.')\n",
        "print(len(x_test), 'amostras de teste.')\n",
        "\n",
        "print('3 primeiras amostras treino:')\n",
        "for x, y in zip(x_train[:3], y_train[:3]):\n",
        "    print(y, x[:100])\n",
        "\n",
        "print('3 últimas amostras treino:')\n",
        "for x, y in zip(x_train[-3:], y_train[-3:]):\n",
        "    print(y, x[:100])\n",
        "\n",
        "print('3 primeiras amostras validação:')\n",
        "for x, y in zip(x_valid[:3], y_test[:3]):\n",
        "    print(y, x[:100])\n",
        "\n",
        "print('3 últimas amostras validação:')\n",
        "for x, y in zip(x_valid[-3:], y_valid[-3:]):\n",
        "    print(y, x[:100])"
      ],
      "execution_count": null,
      "outputs": [
        {
          "output_type": "stream",
          "name": "stdout",
          "text": [
            "20000 amostras de treino.\n",
            "5000 amostras de desenvolvimento.\n",
            "25000 amostras de teste.\n",
            "3 primeiras amostras treino:\n",
            "False I am probably one of the few who actually read Stephen King's book, the one this movie was based on.\n",
            "False Wow probable the worst movie i have ever seen!! This person should never make another movie!!I cant \n",
            "True David Lynch usually makes films that resemble puzzles put together the wrong way. They are interesti\n",
            "3 últimas amostras treino:\n",
            "True After reading tons of good reviews about this movie I decided to take it for a spin (I bought it on \n",
            "False I commented on this when it first debuted and gave it a \"thumbs in the middle\" review, remarking tha\n",
            "False It is pretty surreal what these flies can do... eh well... this is a cartoon, so anything can happen\n",
            "3 primeiras amostras validação:\n",
            "True A simple movie in the beginning, a simple movie in the end. It does have that un-ending and pretendi\n",
            "True Very good point there : \"only an elite few (the upper classes) would both have access to the interne\n",
            "True Marvelous film again dealing with the trials and tribulations of World War 11 England. What makes th\n",
            "3 últimas amostras validação:\n",
            "True Typical 90's comedy, situational comedy similar to our modern day \"My Family\". Thatcher being the he\n",
            "False My one line summary should explain it all, but I'll have a go at it.<br /><br />From the get-go, thi\n",
            "False I had never heard of this Adam Sandler movie until I saw it on the wall at Blockbuster. Being an Ada\n"
          ]
        }
      ]
    },
    {
      "cell_type": "markdown",
      "metadata": {
        "id": "Z8fIFveOtfBN"
      },
      "source": [
        "Imports"
      ]
    },
    {
      "cell_type": "code",
      "metadata": {
        "id": "0AP8wzKfC5Ws"
      },
      "source": [
        "%matplotlib inline\n",
        "import numpy as np\n",
        "from bs4 import BeautifulSoup\n",
        "import torch\n",
        "from torch.utils.data import DataLoader\n",
        "\n",
        "import re\n",
        "from collections import Counter\n",
        "import numpy as np\n",
        "\n",
        "from torchtext.vocab import vocab\n",
        "import matplotlib.pyplot as plt\n"
      ],
      "execution_count": null,
      "outputs": []
    },
    {
      "cell_type": "code",
      "metadata": {
        "id": "62vEZ61Sgvxe",
        "colab": {
          "base_uri": "https://localhost:8080/"
        },
        "outputId": "6237b762-a22b-4161-a0d8-48ba6c198404"
      },
      "source": [
        "if torch.cuda.is_available(): \n",
        "   dev = \"cuda:0\"\n",
        "   print(torch. cuda. get_device_name(dev))\n",
        "else: \n",
        "   dev = \"cpu\" \n",
        "print(dev)\n",
        "device = torch.device(dev)"
      ],
      "execution_count": null,
      "outputs": [
        {
          "output_type": "stream",
          "name": "stdout",
          "text": [
            "Tesla K80\n",
            "cuda:0\n"
          ]
        }
      ]
    },
    {
      "cell_type": "markdown",
      "metadata": {
        "id": "syNJeNdiWT4h"
      },
      "source": [
        "# Tokenizer function"
      ]
    },
    {
      "cell_type": "code",
      "metadata": {
        "id": "YBit67MJqF5i"
      },
      "source": [
        "def tokenizer(sentence):\n",
        "    #Beautiful soup to remove tags of sentences \n",
        "    removeTags = BeautifulSoup(sentence, 'html.parser') \n",
        "\n",
        "    # Getting list of words and remove numbers and ponctuation with regex\n",
        "    removeNotWords = re.sub('\\W+',' ', removeTags.text)\n",
        "    regex = re.compile('\\w+|[^\\w\\s]+')\n",
        "    re_split = regex.findall(removeNotWords.lower())\n",
        "    \n",
        "    re_split_without_numbers = [word for word in re_split if not word.isnumeric()]\n",
        "    return re_split_without_numbers\n",
        "x_train_token = tokenizer(' '.join(x_train))"
      ],
      "execution_count": null,
      "outputs": []
    },
    {
      "cell_type": "markdown",
      "metadata": {
        "id": "zYNuN0k8sXz5"
      },
      "source": [
        "Vocabulário"
      ]
    },
    {
      "cell_type": "code",
      "metadata": {
        "colab": {
          "base_uri": "https://localhost:8080/"
        },
        "id": "vCGprN8nqGCf",
        "outputId": "9f3acb02-e7a4-4239-ad5a-2b2c92f77423"
      },
      "source": [
        "# Count tokens\n",
        "counterTokens = Counter(x_train_token)\n",
        "\n",
        "# Define vocabulary with torch.vocab\n",
        "vocab_train = vocab(counterTokens, min_freq=1)\n",
        "vocab_train.set_default_index(len(vocab_train))\n",
        "\n",
        "print('len of train vocabulary is',len(counterTokens))\n",
        "\n",
        "bow_pipeline = lambda x: [vocab_train[token] for token in tokenizer(x)]"
      ],
      "execution_count": null,
      "outputs": [
        {
          "output_type": "stream",
          "name": "stdout",
          "text": [
            "len of train vocabulary is 68692\n"
          ]
        }
      ]
    },
    {
      "cell_type": "markdown",
      "metadata": {
        "id": "KOWQ-I7jvb-6"
      },
      "source": [
        "# IDF function"
      ]
    },
    {
      "cell_type": "code",
      "metadata": {
        "id": "nSellcSmvcsZ"
      },
      "source": [
        "# Get tokens per document\n",
        "train_tokens = [list(set(bow_pipeline(i))) for i in x_train] \n",
        "\n",
        "# idf calculus\n",
        "idf = torch.zeros(len(vocab_train)+1).long()\n",
        "for index in train_tokens:\n",
        "    idf[index] += 1\n",
        "idf = torch.log10(len(x_train)/idf)\n",
        "\n",
        "# Define unknown token to -1\n",
        "idf[-1] = 1        "
      ],
      "execution_count": null,
      "outputs": []
    },
    {
      "cell_type": "markdown",
      "metadata": {
        "id": "AHyhfC0Xu3sp"
      },
      "source": [
        "# Dataset class"
      ]
    },
    {
      "cell_type": "code",
      "metadata": {
        "id": "ZunkPb5Du5Mb"
      },
      "source": [
        "class Ex3_ds(torch.utils.data.Dataset):\n",
        "\n",
        "    def __init__(self, x, y, mode):\n",
        "        self.x = x\n",
        "        self.y = y\n",
        "        self.mode = mode\n",
        "\n",
        "    def __len__(self):\n",
        "        return len(self.y)\n",
        "\n",
        "    def __getitem__(self, index):\n",
        "        all_tokens = torch.zeros(len(vocab_train)+1) \n",
        "        y_label = int(self.y[index]) # bool to int\n",
        "        if self.mode == 'bow':\n",
        "            all_tokens[bow_pipeline(self.x[index])] = 1\n",
        "        elif self.mode in ['bow_hist', 'tf_idf']:\n",
        "            all_tokens = all_tokens.long()\n",
        "            count_dict = Counter(bow_pipeline(self.x[index]))\n",
        "            dict_keys = list(count_dict.keys())\n",
        "            dict_values = torch.tensor(list(count_dict.values())).long()\n",
        "            all_tokens[dict_keys] = dict_values\n",
        "            all_tokens = all_tokens.float()\n",
        "            if self.mode == 'tf_idf':\n",
        "                all_tokens *= idf\n",
        "        return all_tokens, y_label"
      ],
      "execution_count": null,
      "outputs": []
    },
    {
      "cell_type": "markdown",
      "metadata": {
        "id": "WFnvajCouELp"
      },
      "source": [
        "# Model class"
      ]
    },
    {
      "cell_type": "code",
      "metadata": {
        "colab": {
          "base_uri": "https://localhost:8080/"
        },
        "id": "Fnh07gnmqGJc",
        "outputId": "6ad8cb57-7f3f-4b79-a33b-446e981cd894"
      },
      "source": [
        "class Ex3_model(torch.nn.Module):\n",
        "    def __init__(self, input, hidden):\n",
        "        super(Ex3_model, self).__init__()\n",
        "        self.dense = torch.nn.Sequential(\n",
        "            torch.nn.Linear(input, hidden),\n",
        "            torch.nn.ReLU(),\n",
        "            torch.nn.Linear(hidden, 2),\n",
        "        )\n",
        "    \n",
        "    def forward(self, x):\n",
        "        x = self.dense(x)\n",
        "        return x\n",
        "\n",
        "# Input size: vocab_train+1 (unknown)\n",
        "# Hidden size: 128\n",
        "\n",
        "ex3_model = Ex3_model(len(vocab_train)+1, 128)\n",
        "ex3_model.to(device)\n",
        "\n",
        "# Summary\n",
        "print(ex3_model)"
      ],
      "execution_count": null,
      "outputs": [
        {
          "output_type": "stream",
          "name": "stdout",
          "text": [
            "Ex3_model(\n",
            "  (dense): Sequential(\n",
            "    (0): Linear(in_features=68693, out_features=128, bias=True)\n",
            "    (1): ReLU()\n",
            "    (2): Linear(in_features=128, out_features=2, bias=True)\n",
            "  )\n",
            ")\n"
          ]
        }
      ]
    },
    {
      "cell_type": "markdown",
      "metadata": {
        "id": "SI_H-v26xOu6"
      },
      "source": [
        "# Train parameters\n",
        "\n",
        "loss function: CrossEntropy"
      ]
    },
    {
      "cell_type": "code",
      "metadata": {
        "id": "uluKtiMXgv1V"
      },
      "source": [
        "n_epochs = 10\n",
        "learningRate = 0.0001\n",
        "\n",
        "# CrossEntropyLoss as loss function\n",
        "criterion = torch.nn.CrossEntropyLoss()"
      ],
      "execution_count": null,
      "outputs": []
    },
    {
      "cell_type": "markdown",
      "metadata": {
        "id": "Yu7tu8onxVUF"
      },
      "source": [
        "# Train loop function"
      ]
    },
    {
      "cell_type": "code",
      "metadata": {
        "id": "CxE_r3apgv7F"
      },
      "source": [
        "\n",
        "\n",
        "def train_loop(dataloader_train, dataloader_val, hyperparameters):\n",
        "    epoch_arr = []\n",
        "    train_loss_arr = []\n",
        "    val_loss_arr = []\n",
        "    acc_arr = []\n",
        "    \n",
        "    # Gradient descent\n",
        "    optimizer = torch.optim.Adam(ex3_model.parameters(), lr=hyperparameters['learning_rate'])\n",
        "    min_val_loss = 10e9\n",
        "    best_epoch = 0\n",
        "    for epoch in range(hyperparameters['n_epochs']):\n",
        "      epoch_arr.append(epoch)\n",
        "      total_loss = 0\n",
        "      ex3_model.train()\n",
        "      for x_train, y_train in dataloader_train:\n",
        "            # transform to one dimention\n",
        "        x_train = x_train.to(device)\n",
        "        y_train = y_train.to(device)\n",
        "            \n",
        "            # predict \n",
        "        outputs = ex3_model(x_train)\n",
        "\n",
        "            # batch loss\n",
        "        batch_loss = criterion(outputs, y_train)\n",
        "\n",
        "            # reset gradients, backpropagation, optimizer step and sum loss\n",
        "        optimizer.zero_grad()\n",
        "        batch_loss.backward()\n",
        "        optimizer.step()\n",
        "        total_loss += batch_loss.item()\n",
        "            #print(f'{hyperparameters[\"model_name\"]}_train/batch_loss: {batch_loss}')\n",
        "\n",
        "      train_loss = total_loss / len(dataloader_train.dataset)\n",
        "        #print(f'Epoch {epoch} / {hyperparameters[\"model_name\"]} train loss: {train_loss}')\n",
        "      train_loss_arr.append(train_loss)\n",
        "        # Validation (end of epoch).\n",
        "      total_loss = 0\n",
        "      total_acc = 0\n",
        "      ex3_model.eval()\n",
        "      with torch.no_grad():\n",
        "        for x_val, y_val in dataloader_val:\n",
        "          x_val = x_val.to(device)\n",
        "          y_val = y_val.to(device)\n",
        "\n",
        "                # predict\n",
        "          outputs = ex3_model(x_val)\n",
        "\n",
        "                # batch loss\n",
        "          batch_loss = criterion(outputs, y_val)\n",
        "          preds = outputs.argmax(dim=1)\n",
        "\n",
        "                # val acc\n",
        "          batch_acc = (preds == y_val).sum()\n",
        "          total_loss += batch_loss\n",
        "          total_acc += batch_acc\n",
        "\n",
        "      val_loss = total_loss / len(dataloader_val.dataset)\n",
        "      val_loss_arr.append(val_loss)\n",
        "\n",
        "        #print(f'Epoch {epoch} / {hyperparameters[\"model_name\"]} val loss: {val_loss}')\n",
        "      acc_arr.append(total_acc / len(dataloader_val.dataset))\n",
        "\n",
        "        #print(f'Epoch {epoch} / {hyperparameters[\"model_name\"]} val acc: {total_acc / len(dataloader_val.dataset)}')\n",
        "        #print(total_acc / len(dataloader_val.dataset))\n",
        "\n",
        "      print(f'Epoch: {epoch+1}/{hyperparameters[\"n_epochs\"]} - train_loss: {train_loss} - val_loss: {val_loss} - acc: {total_acc / len(dataloader_val.dataset)*100} %')\n",
        "\n",
        "        # Save best model\n",
        "      if val_loss < min_val_loss:\n",
        "        torch.save(ex3_model.state_dict(), 'best_model.pt')\n",
        "        min_val_loss = val_loss\n",
        "        best_epoch = epoch\n",
        "        print(f'best model in epoch: {best_epoch+1}')\n",
        "\n",
        "\n",
        "    fig, (ax1, ax2, ax3) = plt.subplots(1, 3, figsize=(10, 5))\n",
        "    ax1.plot(epoch_arr, train_loss_arr)\n",
        "    ax1.set_title('Train Loss')\n",
        "\n",
        "    ax2.plot(epoch_arr, val_loss_arr)\n",
        "    ax2.set_title('Val Loss')\n",
        "\n",
        "    ax3.plot(epoch_arr, acc_arr)\n",
        "    ax3.set_title('Val Acc')"
      ],
      "execution_count": null,
      "outputs": []
    },
    {
      "cell_type": "code",
      "metadata": {
        "id": "YwgwvL9y9gsQ"
      },
      "source": [
        "# Function to test acc\n",
        "def predict(model, inputs):\n",
        "    outputs = model(inputs)\n",
        "    _, predicts = torch.max(outputs, 1)\n",
        "    return predicts"
      ],
      "execution_count": null,
      "outputs": []
    },
    {
      "cell_type": "markdown",
      "metadata": {
        "id": "scw8Xivy6ll5"
      },
      "source": [
        "# **Bag of Words** (BoW) train\n",
        "\n",
        "Batch size: 50 => Acc: 86,7%\n",
        "\n",
        "Batch size: 20 => Acc: 86,7%\n",
        "\n",
        "Tempo de execução por epoch: +-25s\n",
        "\n",
        "Tempo total de execução: 4m16s\n"
      ]
    },
    {
      "cell_type": "code",
      "metadata": {
        "id": "beIxi_O9hSie",
        "colab": {
          "base_uri": "https://localhost:8080/",
          "height": 561
        },
        "outputId": "f56b7a03-61ac-4d4a-b312-25158259ea4e"
      },
      "source": [
        "hyperparameters = { \"mode\": \"bow\",\n",
        "          \"learning_rate\": 1e-4,\n",
        "          \"n_epochs\": 10,\n",
        "          \"batch_size\": 50,\n",
        "          \"hidden_size\": 128 }\n",
        "train_ds = Ex3_ds(x_train, y_train, hyperparameters['mode'])\n",
        "val_ds = Ex3_ds(x_valid, y_valid, hyperparameters['mode'])\n",
        "dataloader_train = DataLoader(train_ds, batch_size=hyperparameters['batch_size'], shuffle=True)\n",
        "dataloader_val = DataLoader(val_ds, batch_size=hyperparameters['batch_size'], shuffle=False)       \n",
        "train_loop(dataloader_train, dataloader_val, hyperparameters)   "
      ],
      "execution_count": null,
      "outputs": [
        {
          "output_type": "stream",
          "name": "stdout",
          "text": [
            "Epoch: 1/10 - train_loss: 0.00899347683414817 - val_loss: 0.006231328006833792 - acc: 88.77999877929688 %\n",
            "best model in epoch: 1\n",
            "Epoch: 2/10 - train_loss: 0.004464969865977764 - val_loss: 0.005321574863046408 - acc: 89.47999572753906 %\n",
            "best model in epoch: 2\n",
            "Epoch: 3/10 - train_loss: 0.0028979930127039553 - val_loss: 0.005193421617150307 - acc: 89.73999786376953 %\n",
            "best model in epoch: 3\n",
            "Epoch: 4/10 - train_loss: 0.001999110236763954 - val_loss: 0.005358261521905661 - acc: 89.55999755859375 %\n",
            "Epoch: 5/10 - train_loss: 0.0014037643815390766 - val_loss: 0.005597330164164305 - acc: 89.33999633789062 %\n",
            "Epoch: 6/10 - train_loss: 0.0009861413933336734 - val_loss: 0.005937300622463226 - acc: 89.15999603271484 %\n",
            "Epoch: 7/10 - train_loss: 0.00069767627697438 - val_loss: 0.006317592691630125 - acc: 89.0 %\n",
            "Epoch: 8/10 - train_loss: 0.0004963084914255887 - val_loss: 0.006785291712731123 - acc: 88.76000213623047 %\n",
            "Epoch: 9/10 - train_loss: 0.00034919017378706485 - val_loss: 0.007250028662383556 - acc: 88.43999481201172 %\n",
            "Epoch: 10/10 - train_loss: 0.00025155466835713014 - val_loss: 0.007644268684089184 - acc: 88.4000015258789 %\n"
          ]
        },
        {
          "output_type": "display_data",
          "data": {
            "image/png": "[encoded data removed]",
            "text/plain": [
              "<Figure size 720x360 with 3 Axes>"
            ]
          },
          "metadata": {
            "needs_background": "light"
          }
        }
      ]
    },
    {
      "cell_type": "code",
      "metadata": {
        "id": "pCjCK6s6o3XV"
      },
      "source": [
        "del train_ds\n",
        "del val_ds\n",
        "del dataloader_train\n",
        "del dataloader_val"
      ],
      "execution_count": null,
      "outputs": []
    },
    {
      "cell_type": "markdown",
      "metadata": {
        "id": "LyC1h_tK81NE"
      },
      "source": [
        "## Acc BoW"
      ]
    },
    {
      "cell_type": "code",
      "metadata": {
        "id": "te7y2ZbHhSol",
        "colab": {
          "base_uri": "https://localhost:8080/"
        },
        "outputId": "ef78fd7b-6aa4-4118-c87c-c36d88dbda82"
      },
      "source": [
        "test_ds = Ex3_ds(x_test, y_test, hyperparameters['mode'])\n",
        "dataloader_test = DataLoader(test_ds, batch_size=hyperparameters['batch_size'], shuffle=False)  \n",
        "total_acc = 0     \n",
        "with torch.no_grad():\n",
        "  for x_t, y_t in dataloader_test:\n",
        "    x_t = x_t.to(device)\n",
        "    #print(x_t.shape)\n",
        "    y_t = y_t.to(device)\n",
        "    #print(y_t.shape)\n",
        "    outputs = ex3_model(x_t)\n",
        "    #print(outputs.shape)\n",
        "\n",
        "    #preds = outputs > 0.5\n",
        "\n",
        "    preds = outputs.argmax(dim=1)\n",
        "    #print(preds.shape)\n",
        "\n",
        "    # test acc\n",
        "    batch_acc = (preds == y_t).sum()\n",
        "    total_acc += batch_acc\n",
        "  test_acc = total_acc / len(dataloader_test.dataset)\n",
        "  print(f\"BoW Acc: {test_acc*100} %\")    "
      ],
      "execution_count": null,
      "outputs": [
        {
          "output_type": "stream",
          "name": "stdout",
          "text": [
            "BoW Acc: 86.73999786376953 %\n"
          ]
        }
      ]
    },
    {
      "cell_type": "markdown",
      "metadata": {
        "id": "LB69aSOH9k7P"
      },
      "source": [
        "# **Bag of Words** Hist train\n",
        "\n",
        "Tempo de execução por epoch: +-30s\n",
        "\n",
        "Tempo total de execução: 5m10s"
      ]
    },
    {
      "cell_type": "code",
      "metadata": {
        "colab": {
          "base_uri": "https://localhost:8080/",
          "height": 527
        },
        "id": "tJJiRF_i9kN2",
        "outputId": "aa9bd28a-ea5c-47e2-faaa-eb91817a3812"
      },
      "source": [
        "hyperparameters = { \"mode\": \"bow_hist\",\n",
        "          \"learning_rate\": 1e-4,\n",
        "          \"n_epochs\": 10,\n",
        "          \"batch_size\": 50,\n",
        "          \"hidden_size\": 128 }\n",
        "train_ds = Ex3_ds(x_train, y_train, hyperparameters['mode'])\n",
        "val_ds = Ex3_ds(x_valid, y_valid, hyperparameters['mode'])\n",
        "dataloader_train = DataLoader(train_ds, batch_size=hyperparameters['batch_size'], shuffle=True)\n",
        "dataloader_val = DataLoader(val_ds, batch_size=hyperparameters['batch_size'], shuffle=False)       \n",
        "train_loop(dataloader_train, dataloader_val, hyperparameters)   "
      ],
      "execution_count": null,
      "outputs": [
        {
          "output_type": "stream",
          "name": "stdout",
          "text": [
            "Epoch: 1/10 - train_loss: 0.0006844416375097353 - val_loss: 0.009334278292953968 - acc: 88.72000122070312 %\n",
            "best model in epoch: 1\n",
            "Epoch: 2/10 - train_loss: 0.0002293869770830497 - val_loss: 0.009462820366024971 - acc: 88.41999816894531 %\n",
            "Epoch: 3/10 - train_loss: 0.000136101502776728 - val_loss: 0.009919129312038422 - acc: 88.22000122070312 %\n",
            "Epoch: 4/10 - train_loss: 0.0001016392771853134 - val_loss: 0.010043696500360966 - acc: 88.27999877929688 %\n",
            "Epoch: 5/10 - train_loss: 7.920005596824921e-05 - val_loss: 0.010330678895115852 - acc: 88.31999969482422 %\n",
            "Epoch: 6/10 - train_loss: 6.235677477379796e-05 - val_loss: 0.010605876334011555 - acc: 88.22000122070312 %\n",
            "Epoch: 7/10 - train_loss: 4.999257297895383e-05 - val_loss: 0.011003819294273853 - acc: 88.27999877929688 %\n",
            "Epoch: 8/10 - train_loss: 4.03946938997251e-05 - val_loss: 0.011301285587251186 - acc: 88.27999877929688 %\n",
            "Epoch: 9/10 - train_loss: 3.260425625994685e-05 - val_loss: 0.011709707789123058 - acc: 88.18000030517578 %\n",
            "Epoch: 10/10 - train_loss: 2.6349597611260833e-05 - val_loss: 0.012031723745167255 - acc: 88.25999450683594 %\n"
          ]
        },
        {
          "output_type": "display_data",
          "data": {
            "image/png": "[encoded data removed]",
            "text/plain": [
              "<Figure size 720x360 with 3 Axes>"
            ]
          },
          "metadata": {
            "needs_background": "light"
          }
        }
      ]
    },
    {
      "cell_type": "code",
      "metadata": {
        "id": "pgT_fDk936we"
      },
      "source": [
        "del train_ds\n",
        "del val_ds\n",
        "del dataloader_train\n",
        "del dataloader_val"
      ],
      "execution_count": null,
      "outputs": []
    },
    {
      "cell_type": "markdown",
      "metadata": {
        "id": "54-8VWrY-Fif"
      },
      "source": [
        "## Acc BoW Hist"
      ]
    },
    {
      "cell_type": "code",
      "metadata": {
        "id": "yI5Qm73_hSsq",
        "colab": {
          "base_uri": "https://localhost:8080/"
        },
        "outputId": "0db6ea75-606b-4860-ca82-387fe98867c2"
      },
      "source": [
        "test_ds = Ex3_ds(x_test, y_test, hyperparameters['mode'])\n",
        "dataloader_test = DataLoader(test_ds, batch_size=hyperparameters['batch_size'], shuffle=False)  \n",
        "total_acc = 0     \n",
        "with torch.no_grad():\n",
        "  for x_t, y_t in dataloader_test:\n",
        "    x_t = x_t.to(device)\n",
        "    #print(x_t.shape)\n",
        "    y_t = y_t.to(device)\n",
        "    #print(y_t.shape)\n",
        "    outputs = ex3_model(x_t)\n",
        "    #print(outputs.shape)\n",
        "\n",
        "    #preds = outputs > 0.5\n",
        "\n",
        "    preds = outputs.argmax(dim=1)\n",
        "    #print(preds.shape)\n",
        "\n",
        "    # test acc\n",
        "    batch_acc = (preds == y_t).sum()\n",
        "    total_acc += batch_acc\n",
        "  test_acc = total_acc / len(dataloader_test.dataset)\n",
        "\n",
        "  print(f\"BoW Hist Acc: {test_acc*100} %\")    "
      ],
      "execution_count": null,
      "outputs": [
        {
          "output_type": "stream",
          "name": "stdout",
          "text": [
            "BoW Hist Acc: 84.81199645996094 %\n"
          ]
        }
      ]
    },
    {
      "cell_type": "markdown",
      "metadata": {
        "id": "_N40lBmL-Jor"
      },
      "source": [
        "# **TF_IDF** train\n",
        "\n",
        "Tempo de execução por epoch: +-33s\n",
        "\n",
        "Tempo total de execução: 5m39s"
      ]
    },
    {
      "cell_type": "code",
      "metadata": {
        "id": "7Kkx96AhC5gl",
        "colab": {
          "base_uri": "https://localhost:8080/",
          "height": 527
        },
        "outputId": "5f1ae4a1-ce38-4739-9ff3-486045ceb2dc"
      },
      "source": [
        "hyperparameters = { \"mode\": \"tf_idf\",\n",
        "          \"learning_rate\": 1e-4,\n",
        "          \"n_epochs\": 10,\n",
        "          \"batch_size\": 50,\n",
        "          \"hidden_size\": 128 }\n",
        "train_ds = Ex3_ds(x_train, y_train, hyperparameters['mode'])\n",
        "val_ds = Ex3_ds(x_valid, y_valid, hyperparameters['mode'])\n",
        "dataloader_train = DataLoader(train_ds, batch_size=hyperparameters['batch_size'], shuffle=True)\n",
        "dataloader_val = DataLoader(val_ds, batch_size=hyperparameters['batch_size'], shuffle=False)       \n",
        "train_loop(dataloader_train, dataloader_val, hyperparameters)  "
      ],
      "execution_count": null,
      "outputs": [
        {
          "output_type": "stream",
          "name": "stdout",
          "text": [
            "Epoch: 1/10 - train_loss: 7.632024365880455e-05 - val_loss: 0.02729448862373829 - acc: 85.83999633789062 %\n",
            "best model in epoch: 1\n",
            "Epoch: 2/10 - train_loss: 4.83570205202355e-06 - val_loss: 0.027593795210123062 - acc: 85.99999237060547 %\n",
            "Epoch: 3/10 - train_loss: 1.9832605205824195e-06 - val_loss: 0.028046688064932823 - acc: 85.91999816894531 %\n",
            "Epoch: 4/10 - train_loss: 1.5323569500036882e-06 - val_loss: 0.028414972126483917 - acc: 85.99999237060547 %\n",
            "Epoch: 5/10 - train_loss: 1.220502709666249e-06 - val_loss: 0.028733471408486366 - acc: 85.91999816894531 %\n",
            "Epoch: 6/10 - train_loss: 9.894646392233143e-07 - val_loss: 0.02903958037495613 - acc: 85.95999908447266 %\n",
            "Epoch: 7/10 - train_loss: 8.149534252503088e-07 - val_loss: 0.029306035488843918 - acc: 85.95999908447266 %\n",
            "Epoch: 8/10 - train_loss: 6.769559878773812e-07 - val_loss: 0.029543640092015266 - acc: 85.95999908447266 %\n",
            "Epoch: 9/10 - train_loss: 5.646807779108087e-07 - val_loss: 0.029822038486599922 - acc: 85.89999389648438 %\n",
            "Epoch: 10/10 - train_loss: 4.730780385154176e-07 - val_loss: 0.03007064387202263 - acc: 85.87999725341797 %\n"
          ]
        },
        {
          "output_type": "display_data",
          "data": {
            "image/png": "[encoded data removed]",
            "text/plain": [
              "<Figure size 720x360 with 3 Axes>"
            ]
          },
          "metadata": {
            "needs_background": "light"
          }
        }
      ]
    },
    {
      "cell_type": "code",
      "metadata": {
        "id": "90NznHv239Qh"
      },
      "source": [
        "del train_ds\n",
        "del val_ds\n",
        "del dataloader_train\n",
        "del dataloader_val"
      ],
      "execution_count": null,
      "outputs": []
    },
    {
      "cell_type": "markdown",
      "metadata": {
        "id": "S-h_GTQF-j_l"
      },
      "source": [
        "## Acc TF_IDF"
      ]
    },
    {
      "cell_type": "code",
      "metadata": {
        "id": "lVsrL5IoC5m3",
        "colab": {
          "base_uri": "https://localhost:8080/"
        },
        "outputId": "800ecc99-b566-4da7-ddb8-68bbbf727c50"
      },
      "source": [
        "test_ds = Ex3_ds(x_test, y_test, hyperparameters['mode'])\n",
        "dataloader_test = DataLoader(test_ds, batch_size=hyperparameters['batch_size'], shuffle=False)  \n",
        "total_acc = 0     \n",
        "with torch.no_grad():\n",
        "  for x_t, y_t in dataloader_test:\n",
        "    x_t = x_t.to(device)\n",
        "    #print(x_t.shape)\n",
        "    y_t = y_t.to(device)\n",
        "    #print(y_t.shape)\n",
        "    outputs = ex3_model(x_t)\n",
        "    #print(outputs.shape)\n",
        "\n",
        "    #preds = outputs > 0.5\n",
        "\n",
        "    preds = outputs.argmax(dim=1)\n",
        "    #print(preds.shape)\n",
        "\n",
        "    # test acc\n",
        "    batch_acc = (preds == y_t).sum()\n",
        "    total_acc += batch_acc\n",
        "  test_acc = total_acc / len(dataloader_test.dataset)\n",
        "\n",
        "  print(f\"TF_IDF Acc: {test_acc*100} %\")    "
      ],
      "execution_count": null,
      "outputs": [
        {
          "output_type": "stream",
          "name": "stdout",
          "text": [
            "TF_IDF Acc: 80.66399383544922 %\n"
          ]
        }
      ]
    },
    {
      "cell_type": "code",
      "metadata": {
        "id": "uhfNni-CarmW"
      },
      "source": [
        ""
      ],
      "execution_count": null,
      "outputs": []
    }
  ]
}