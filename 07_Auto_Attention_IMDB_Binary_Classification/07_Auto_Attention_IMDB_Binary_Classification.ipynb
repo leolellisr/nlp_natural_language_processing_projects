{
  "nbformat": 4,
  "nbformat_minor": 0,
  "metadata": {
    "colab": {
      "name": "210923_Aula 7_Leonardo de Lellis Rossi",
      "provenance": [],
      "collapsed_sections": [],
      "include_colab_link": true
    },
    "kernelspec": {
      "name": "python3",
      "display_name": "Python 3"
    },
    "accelerator": "GPU"
  },
  "cells": [
    {
      "cell_type": "markdown",
      "metadata": {
        "id": "view-in-github",
        "colab_type": "text"
      },
      "source": [
        "<a href=\"https://colab.research.google.com/github/leolellisr/npl_natural_language_processing_projects/blob/main/07_Auto_Attention_IMDB_Binary_Classification/07_Auto_Attention_IMDB_Binary_Classification.ipynb\" target=\"_parent\"><img src=\"https://colab.research.google.com/assets/colab-badge.svg\" alt=\"Open In Colab\"/></a>"
      ]
    },
    {
      "cell_type": "markdown",
      "metadata": {
        "id": "1OG5DT_dm6mk"
      },
      "source": [
        "# Notebook de referência \n",
        "\n",
        "Nome: Leonardo de Lellis Rossi\n",
        "\n",
        "https://app.neptune.ai/leolellisr/nlp-imbd-large/e/NIMBL-50/charts"
      ]
    },
    {
      "cell_type": "markdown",
      "metadata": {
        "id": "LZ80hHaftwUd"
      },
      "source": [
        "## Instruções:\n",
        "\n",
        "Treinar e medir a acurácia de um modelo de classificação binária usando o dataset do IMDB (20k/5k amostras de treino/validação).\n",
        "O modelo deverá ter uma camada de auto-atenção simplificada igual à apresentada no slide 96.\n",
        "\n",
        "Deverão ser entregues duas implementações da camada de auto-atenção, como apresentado no slide 100:\n",
        "1. Usando laços (ineficiente, mas bom para o aprendizado)\n",
        "2. Matricial\n",
        "\n",
        "Devemos usar embeddings pretreinados (glove) como entrada para a camada de auto-atenção. Lembrar de congelá-los pois, caso contrário,  pode ocorrer overfit.\n",
        "\n",
        "Ao corrigir o exercicio, iremos também nos atentar na eficiencia/velocidade das implementações.\n",
        "\n",
        "Dicas:\n",
        "- A dificuldade deste exercício será implementar a auto-atenção de forma matricial usando minibatches. Para lidar com exemplos de tamanho variável, deve-se truncá-los e aplicar padding.\n",
        "\n",
        "- Evitar usar qualquer laço na implementação matricial, pois isso a deixará muito ineficiente."
      ]
    },
    {
      "cell_type": "markdown",
      "metadata": {
        "id": "ojyVOubollcH"
      },
      "source": [
        "## Definindo os parametros"
      ]
    },
    {
      "cell_type": "code",
      "metadata": {
        "id": "F-YHxi_AllQZ"
      },
      "source": [
        "params = {\n",
        "    'vocabulary_size': 400000,\n",
        "    'padding_idx': 400001,\n",
        "    'max_length': 200,\n",
        "}"
      ],
      "execution_count": null,
      "outputs": []
    },
    {
      "cell_type": "markdown",
      "metadata": {
        "id": "uhpAkifICdJo"
      },
      "source": [
        "# Fixando a seed"
      ]
    },
    {
      "cell_type": "code",
      "metadata": {
        "id": "1ozXD-xYCcrT"
      },
      "source": [
        "import random\n",
        "import torch\n",
        "import torch.nn.functional as F\n",
        "import numpy as np"
      ],
      "execution_count": null,
      "outputs": []
    },
    {
      "cell_type": "code",
      "metadata": {
        "id": "wHeZ9nAOEB0U"
      },
      "source": [
        "def set_seeds():\n",
        "  random.seed(123)\n",
        "  np.random.seed(123)\n",
        "  torch.manual_seed(123)\n",
        "\n",
        "set_seeds()"
      ],
      "execution_count": null,
      "outputs": []
    },
    {
      "cell_type": "markdown",
      "metadata": {
        "id": "CXFdJz2KVeQw"
      },
      "source": [
        "## Preparando Dados"
      ]
    },
    {
      "cell_type": "markdown",
      "metadata": {
        "id": "gHMi_Kq65fPM"
      },
      "source": [
        "Primeiro, fazemos download do dataset:"
      ]
    },
    {
      "cell_type": "code",
      "metadata": {
        "id": "2wbnfzst5O3k",
        "colab": {
          "base_uri": "https://localhost:8080/"
        },
        "outputId": "3b878bd7-ec9a-4fe7-fc7a-561f4da2d3b8"
      },
      "source": [
        "!wget -nc http://files.fast.ai/data/aclImdb.tgz \n",
        "!tar -xzf aclImdb.tgz"
      ],
      "execution_count": null,
      "outputs": [
        {
          "output_type": "stream",
          "name": "stdout",
          "text": [
            "--2021-09-27 14:11:55--  http://files.fast.ai/data/aclImdb.tgz\n",
            "Resolving files.fast.ai (files.fast.ai)... 104.26.2.19, 104.26.3.19, 172.67.69.159, ...\n",
            "Connecting to files.fast.ai (files.fast.ai)|104.26.2.19|:80... connected.\n",
            "HTTP request sent, awaiting response... 301 Moved Permanently\n",
            "Location: https://files.fast.ai/data/aclImdb.tgz [following]\n",
            "--2021-09-27 14:11:56--  https://files.fast.ai/data/aclImdb.tgz\n",
            "Connecting to files.fast.ai (files.fast.ai)|104.26.2.19|:443... connected.\n",
            "HTTP request sent, awaiting response... 200 OK\n",
            "Length: 145982645 (139M) [application/x-gtar-compressed]\n",
            "Saving to: ‘aclImdb.tgz’\n",
            "\n",
            "aclImdb.tgz         100%[===================>] 139.22M  11.6MB/s    in 13s     \n",
            "\n",
            "2021-09-27 14:12:09 (10.9 MB/s) - ‘aclImdb.tgz’ saved [145982645/145982645]\n",
            "\n"
          ]
        }
      ]
    },
    {
      "cell_type": "markdown",
      "metadata": {
        "id": "0Giyi5Rv_NIm"
      },
      "source": [
        "## Carregando o dataset\n",
        "\n",
        "Criaremos uma divisão de treino (20k exemplos) e validação (5k exemplos) artificialmente."
      ]
    },
    {
      "cell_type": "code",
      "metadata": {
        "id": "0HIN_xLI_TuT",
        "colab": {
          "base_uri": "https://localhost:8080/"
        },
        "outputId": "09231915-54aa-40c0-e920-af5d99a78610"
      },
      "source": [
        "import os\n",
        "\n",
        "max_valid = 5000\n",
        "\n",
        "def load_texts(folder):\n",
        "    texts = []\n",
        "    for path in os.listdir(folder):\n",
        "        with open(os.path.join(folder, path)) as f:\n",
        "            texts.append(f.read())\n",
        "    return texts\n",
        "\n",
        "x_train_pos = load_texts('aclImdb/train/pos')\n",
        "x_train_neg = load_texts('aclImdb/train/neg')\n",
        "x_test_pos = load_texts('aclImdb/test/pos')\n",
        "x_test_neg = load_texts('aclImdb/test/neg')\n",
        "\n",
        "x_train = x_train_pos + x_train_neg\n",
        "x_test = x_test_pos + x_test_neg\n",
        "y_train = [True] * len(x_train_pos) + [False] * len(x_train_neg)\n",
        "y_test = [True] * len(x_test_pos) + [False] * len(x_test_neg)\n",
        "\n",
        "# Embaralhamos o treino para depois fazermos a divisão treino/valid.\n",
        "c = list(zip(x_train, y_train))\n",
        "random.shuffle(c)\n",
        "x_train, y_train = zip(*c)\n",
        "\n",
        "x_valid = x_train[-max_valid:]\n",
        "y_valid = y_train[-max_valid:]\n",
        "x_train = x_train[:-max_valid]\n",
        "y_train = y_train[:-max_valid]\n",
        "\n",
        "print(len(x_train), 'amostras de treino.')\n",
        "print(len(x_valid), 'amostras de desenvolvimento.')\n",
        "print(len(x_test), 'amostras de teste.')\n",
        "\n",
        "print('3 primeiras amostras treino:')\n",
        "for x, y in zip(x_train[:3], y_train[:3]):\n",
        "    print(y, x[:100])\n",
        "\n",
        "print('3 últimas amostras treino:')\n",
        "for x, y in zip(x_train[-3:], y_train[-3:]):\n",
        "    print(y, x[:100])\n",
        "\n",
        "print('3 primeiras amostras validação:')\n",
        "for x, y in zip(x_valid[:3], y_test[:3]):\n",
        "    print(y, x[:100])\n",
        "\n",
        "print('3 últimas amostras validação:')\n",
        "for x, y in zip(x_valid[-3:], y_valid[-3:]):\n",
        "    print(y, x[:100])"
      ],
      "execution_count": null,
      "outputs": [
        {
          "output_type": "stream",
          "name": "stdout",
          "text": [
            "20000 amostras de treino.\n",
            "5000 amostras de desenvolvimento.\n",
            "25000 amostras de teste.\n",
            "3 primeiras amostras treino:\n",
            "False Wow, a movie about NYC politics seemingly written by someone who has never set foot in NYC. You know\n",
            "False I wrote a review of this movie further down after buying it on DVD and being sorely disapointed.<br \n",
            "True This film is available from David Shepard and Kino on the Before Hollywood There Was Fort Lee, NJ, a\n",
            "3 últimas amostras treino:\n",
            "False Yes, it can be done. John De Bello and Costa Dillon cleaned out the garbage of their minds and come \n",
            "True This is a good movie, although people unfamiliar with the Modesty Blaise comics and books may find i\n",
            "True Four teenage girlfriends drive to Fort Laurdale for spring break.Unfortunately they get a flat tire \n",
            "3 primeiras amostras validação:\n",
            "True Hold Your Man finds Jean Harlow, working class girl from Brooklyn falling for con man Clark Gable an\n",
            "True Like his elder brothers, Claude Sautet and Jean-Pierre Melville, Alain Corneau began to cut his teet\n",
            "True This is the prime example of low budget, winning over what would be a good story line. Let's bring b\n",
            "3 últimas amostras validação:\n",
            "True The DVD for \"Danaza Macabra\" (Castle of Blood) is very odd. That's because parts of the film are in \n",
            "True OK, this movie is stupid. I mean that in a good way though.It was stupid on purpose, and was one of \n",
            "True Although it's not as creepy as it's cult classic predecessor (ZOMBI 2) I actually like this one bett\n"
          ]
        }
      ]
    },
    {
      "cell_type": "markdown",
      "metadata": {
        "id": "0c_-4MRtsOL_"
      },
      "source": [
        "# Carregando os embeddings do Glove"
      ]
    },
    {
      "cell_type": "code",
      "metadata": {
        "colab": {
          "base_uri": "https://localhost:8080/"
        },
        "id": "A5h_a9nvs5FJ",
        "outputId": "16047f04-eed2-4fe7-fdf6-cb03db990eb8"
      },
      "source": [
        "!wget -nc http://nlp.stanford.edu/data/glove.6B.zip\n",
        "!unzip -o glove.6B.zip -d glove_dir"
      ],
      "execution_count": null,
      "outputs": [
        {
          "output_type": "stream",
          "name": "stdout",
          "text": [
            "--2021-09-27 14:12:44--  http://nlp.stanford.edu/data/glove.6B.zip\n",
            "Resolving nlp.stanford.edu (nlp.stanford.edu)... 171.64.67.140\n",
            "Connecting to nlp.stanford.edu (nlp.stanford.edu)|171.64.67.140|:80... connected.\n",
            "HTTP request sent, awaiting response... 302 Found\n",
            "Location: https://nlp.stanford.edu/data/glove.6B.zip [following]\n",
            "--2021-09-27 14:12:45--  https://nlp.stanford.edu/data/glove.6B.zip\n",
            "Connecting to nlp.stanford.edu (nlp.stanford.edu)|171.64.67.140|:443... connected.\n",
            "HTTP request sent, awaiting response... 301 Moved Permanently\n",
            "Location: http://downloads.cs.stanford.edu/nlp/data/glove.6B.zip [following]\n",
            "--2021-09-27 14:12:45--  http://downloads.cs.stanford.edu/nlp/data/glove.6B.zip\n",
            "Resolving downloads.cs.stanford.edu (downloads.cs.stanford.edu)... 171.64.64.22\n",
            "Connecting to downloads.cs.stanford.edu (downloads.cs.stanford.edu)|171.64.64.22|:80... connected.\n",
            "HTTP request sent, awaiting response... 200 OK\n",
            "Length: 862182613 (822M) [application/zip]\n",
            "Saving to: ‘glove.6B.zip’\n",
            "\n",
            "glove.6B.zip        100%[===================>] 822.24M  5.10MB/s    in 2m 42s  \n",
            "\n",
            "2021-09-27 14:15:27 (5.09 MB/s) - ‘glove.6B.zip’ saved [862182613/862182613]\n",
            "\n",
            "Archive:  glove.6B.zip\n",
            "  inflating: glove_dir/glove.6B.50d.txt  \n",
            "  inflating: glove_dir/glove.6B.100d.txt  \n",
            "  inflating: glove_dir/glove.6B.200d.txt  \n",
            "  inflating: glove_dir/glove.6B.300d.txt  \n"
          ]
        }
      ]
    },
    {
      "cell_type": "code",
      "metadata": {
        "id": "D9NSvROYvnWY",
        "colab": {
          "base_uri": "https://localhost:8080/"
        },
        "outputId": "138bd2bb-38f1-4690-82c2-38149e6cfae3"
      },
      "source": [
        "from torchtext.vocab import GloVe\n",
        "glove_vectors = GloVe(name='6B', dim=300, cache='./glove_dir')"
      ],
      "execution_count": null,
      "outputs": [
        {
          "output_type": "stream",
          "name": "stderr",
          "text": [
            "100%|█████████▉| 399999/400000 [00:51<00:00, 7824.12it/s]\n"
          ]
        }
      ]
    },
    {
      "cell_type": "code",
      "metadata": {
        "id": "dz4RNqJ3wNzn",
        "colab": {
          "base_uri": "https://localhost:8080/"
        },
        "outputId": "1908d677-7679-494f-ac21-d8338e642a81"
      },
      "source": [
        "print(glove_vectors.vectors.shape)\n",
        "print('Primeiras 20 palavras e seus índices:', list(glove_vectors.stoi.items())[:20])"
      ],
      "execution_count": null,
      "outputs": [
        {
          "output_type": "stream",
          "name": "stdout",
          "text": [
            "torch.Size([400000, 300])\n",
            "Primeiras 20 palavras e seus índices: [('the', 0), (',', 1), ('.', 2), ('of', 3), ('to', 4), ('and', 5), ('in', 6), ('a', 7), ('\"', 8), (\"'s\", 9), ('for', 10), ('-', 11), ('that', 12), ('on', 13), ('is', 14), ('was', 15), ('said', 16), ('with', 17), ('he', 18), ('as', 19)]\n"
          ]
        }
      ]
    },
    {
      "cell_type": "code",
      "metadata": {
        "id": "1ySaZBHxTLFa",
        "colab": {
          "base_uri": "https://localhost:8080/"
        },
        "outputId": "7810b9b0-5e8a-47b5-dc9a-fa16bdea35fe"
      },
      "source": [
        "vocab = glove_vectors.stoi\n",
        "vocab['<UNK>'] = params['vocabulary_size'] # The last row is for the unknown token.\n",
        "\n",
        "# We create a random vector for the unknown token\n",
        "unk_vector = torch.FloatTensor(1, glove_vectors.vectors.shape[1]).uniform_(-0.5, 0.5)\n",
        "\n",
        "# We create a vector of zeros for the pad token\n",
        "pad_vector = torch.zeros(1, glove_vectors.vectors.shape[1])\n",
        "\n",
        "# And add them to the embeddings matrix.\n",
        "embeddings = torch.cat((glove_vectors.vectors, unk_vector, pad_vector), dim=0)\n",
        "\n",
        "print(f'Total de palavras: {len(vocab)}')\n",
        "print(f'embeddings.shape: {embeddings.shape}')"
      ],
      "execution_count": null,
      "outputs": [
        {
          "output_type": "stream",
          "name": "stdout",
          "text": [
            "Total de palavras: 400001\n",
            "embeddings.shape: torch.Size([400002, 300])\n"
          ]
        }
      ]
    },
    {
      "cell_type": "markdown",
      "metadata": {
        "id": "XLlaPgP0Z_D4"
      },
      "source": [
        "# Definindo o tokenizador"
      ]
    },
    {
      "cell_type": "code",
      "metadata": {
        "id": "YIpp1C_qZ-QX"
      },
      "source": [
        "import collections\n",
        "import re\n",
        "\n",
        "\n",
        "def tokenize(text):\n",
        "    return [token.lower() for token in re.compile('\\w+').findall(text)]\n",
        "\n",
        "\n",
        "def to_token_ids(text, vocab, max_length, padding_idx):\n",
        "    tokens = tokenize(text)[:max_length]  # Truncating.\n",
        "    token_ids = []\n",
        "    for token in tokens:\n",
        "        # We use the id of the \"<UNK>\" token if we don't find it in the vocabulary.\n",
        "        token_id = vocab.get(token, vocab['<UNK>'])\n",
        "        token_ids.append(token_id)\n",
        "\n",
        "    # Adding PAD tokens, if necessary.\n",
        "    token_ids += [padding_idx] * max(0, max_length - len(token_ids))\n",
        "    return token_ids"
      ],
      "execution_count": null,
      "outputs": []
    },
    {
      "cell_type": "markdown",
      "metadata": {
        "id": "7_6pddDHEM_r"
      },
      "source": [
        "## Definindo o Modelo"
      ]
    },
    {
      "cell_type": "code",
      "metadata": {
        "id": "oLReRSuDEPLL"
      },
      "source": [
        "class SelfAttentionLayerLoop(torch.nn.Module):\n",
        "\n",
        "    def __init__(self, embeddings, padding_idx):\n",
        "        super(SelfAttentionLayerLoop, self).__init__()\n",
        "        self.C = embeddings\n",
        "        self.padding_idx = padding_idx\n",
        "\n",
        "    def forward(self, batch_token_ids):\n",
        "        batchE = []\n",
        "        for token_ids in batch_token_ids:\n",
        "          tokenE = []\n",
        "\n",
        "          for q in token_ids:\n",
        "            if q == self.padding_idx: continue # Skip PAD values\n",
        "\n",
        "            scores = []\n",
        "            for k in token_ids:\n",
        "              if k == self.padding_idx:\n",
        "                scores.append(-1e9)\n",
        "                continue\n",
        "              score = torch.matmul(self.C[q], self.C[k])   # q and k similarity\n",
        "              scores.append(score)\n",
        "\n",
        "            scores = torch.tensor(scores)\n",
        "            probs = F.softmax(scores, dim=0)  # probabilities\n",
        "\n",
        "            new_embedding = 0\n",
        "            for v, p in zip(token_ids, probs):\n",
        "              new_embedding += self.C[v]*p\n",
        "            tokenE.append(new_embedding)\n",
        "\n",
        "          tokenE = torch.stack(tokenE)\n",
        "          tokenE = torch.mean(tokenE, dim=0)\n",
        "          batchE.append(tokenE)\n",
        "\n",
        "        mean_embeddings = torch.stack(batchE)\n",
        "        return mean_embeddings"
      ],
      "execution_count": null,
      "outputs": []
    },
    {
      "cell_type": "code",
      "metadata": {
        "id": "7sxH44Suiexp"
      },
      "source": [
        "class SelfAttentionLayerMatrix(torch.nn.Module):\n",
        "\n",
        "    def __init__(self, embeddings, padding_idx):\n",
        "        super(SelfAttentionLayerMatrix, self).__init__()\n",
        "        self.C = torch.nn.Embedding.from_pretrained(embeddings, padding_idx=padding_idx)\n",
        "\n",
        "    def forward(self, batch_token_ids):\n",
        "        Q = K = V = self.C(batch_token_ids)\n",
        "\n",
        "        # Greetings for collegue Talles Viana for the pad mask code\n",
        "        dim1Q = Q.shape[1]\n",
        "        padMask = Q.abs().sum(dim=-1) == 0\n",
        "        padValue = Q[padMask]\n",
        "        padMaskScores = padMask.unsqueeze(1).repeat(1, dim1Q, 1)\n",
        "\n",
        "        scores = torch.matmul(Q, K.transpose(1, 2))   # q and k similarity\n",
        "        scores[padMaskScores] = -1e9\n",
        "\n",
        "        probs = F.softmax(scores, dim=-1)  # probabilities\n",
        "\n",
        "        mean_embeddings = torch.matmul(probs, V)\n",
        "        mean_embeddings[padMask] = padValue\n",
        "        mean_embeddings = mean_embeddings.sum(dim=1)\n",
        "\n",
        "        non_pad = (padMask == False).count_nonzero(dim=-1)\n",
        "\n",
        "        mean_embeddings = mean_embeddings / non_pad.unsqueeze(-1)\n",
        "\n",
        "        return mean_embeddings"
      ],
      "execution_count": null,
      "outputs": []
    },
    {
      "cell_type": "markdown",
      "metadata": {
        "id": "MSbNNLzjya7z"
      },
      "source": [
        "## Testando a implementação com embeddings \"falsos\""
      ]
    },
    {
      "cell_type": "code",
      "metadata": {
        "colab": {
          "base_uri": "https://localhost:8080/"
        },
        "id": "7K_LJm2lygau",
        "outputId": "fabc4f29-58f7-4dce-bb28-5b6500129de2"
      },
      "source": [
        "fake_vocab = {\n",
        "    'a': 0,\n",
        "    'b': 1,\n",
        "    'c': 2,\n",
        "    '<UNK>': 3 \n",
        "}\n",
        "\n",
        "fake_embeddings = torch.arange(0, 2 * len(fake_vocab)).reshape(len(fake_vocab), 2).float()\n",
        "pad_vector = torch.zeros(1, 2)\n",
        "fake_embeddings = torch.cat((fake_embeddings, pad_vector), dim=0)\n",
        "\n",
        "fake_examples = [\n",
        "    'a', # Testing PAD\n",
        "    'a b',\n",
        "    'a c b', # Testing truncation\n",
        "    'a z', # Testing <UNK>\n",
        "    ]\n",
        "\n",
        "print(f'Total de palavras: {len(fake_vocab)}')\n",
        "print(f'embeddings.shape: {fake_embeddings.shape}')"
      ],
      "execution_count": null,
      "outputs": [
        {
          "output_type": "stream",
          "name": "stdout",
          "text": [
            "Total de palavras: 4\n",
            "embeddings.shape: torch.Size([5, 2])\n"
          ]
        }
      ]
    },
    {
      "cell_type": "code",
      "metadata": {
        "colab": {
          "base_uri": "https://localhost:8080/"
        },
        "id": "s5lhQ2YY4rz6",
        "outputId": "ed11ae7e-0e48-4aa8-f4ba-7ff063f4fe8d"
      },
      "source": [
        "fake_embeddings"
      ],
      "execution_count": null,
      "outputs": [
        {
          "output_type": "execute_result",
          "data": {
            "text/plain": [
              "tensor([[0., 1.],\n",
              "        [2., 3.],\n",
              "        [4., 5.],\n",
              "        [6., 7.],\n",
              "        [0., 0.]])"
            ]
          },
          "metadata": {},
          "execution_count": 14
        }
      ]
    },
    {
      "cell_type": "code",
      "metadata": {
        "id": "0IHiV6nRzg4q"
      },
      "source": [
        "self_attention_layer = SelfAttentionLayerLoop(\n",
        "    embeddings=fake_embeddings,\n",
        "    padding_idx=4)\n",
        "\n",
        "batch_token_ids = []\n",
        "for example in fake_examples:\n",
        "    token_ids = to_token_ids(\n",
        "        text=example,\n",
        "        vocab=fake_vocab,\n",
        "        max_length=2,\n",
        "        padding_idx=4)\n",
        "    batch_token_ids.append(token_ids)\n",
        "\n",
        "batch_token_ids = torch.LongTensor(batch_token_ids)\n",
        "my_output = self_attention_layer(batch_token_ids)"
      ],
      "execution_count": null,
      "outputs": []
    },
    {
      "cell_type": "code",
      "metadata": {
        "id": "zJsMGZ911l67"
      },
      "source": [
        "target_output = torch.FloatTensor([\n",
        "    [0.00000000, 1.00000000],\n",
        "    [1.88075161, 2.88075161],\n",
        "    [3.96402740, 4.96402740],\n",
        "    [5.99258232, 6.99258232]])"
      ],
      "execution_count": null,
      "outputs": []
    },
    {
      "cell_type": "code",
      "metadata": {
        "id": "IR_sjMsm1kK1"
      },
      "source": [
        "assert torch.allclose(my_output, target_output, atol=1e-6)"
      ],
      "execution_count": null,
      "outputs": []
    },
    {
      "cell_type": "code",
      "metadata": {
        "id": "a66wRP_fle92"
      },
      "source": [
        "self_attention_layer = SelfAttentionLayerMatrix(\n",
        "    embeddings=fake_embeddings,\n",
        "    padding_idx=4)\n",
        "\n",
        "batch_token_ids = []\n",
        "for example in fake_examples:\n",
        "    token_ids = to_token_ids(\n",
        "        text=example,\n",
        "        vocab=fake_vocab,\n",
        "        max_length=2,\n",
        "        padding_idx=4)\n",
        "    batch_token_ids.append(token_ids)\n",
        "\n",
        "batch_token_ids = torch.LongTensor(batch_token_ids)\n",
        "my_output = self_attention_layer(batch_token_ids)"
      ],
      "execution_count": null,
      "outputs": []
    },
    {
      "cell_type": "code",
      "metadata": {
        "id": "6au-_AT4ljCB"
      },
      "source": [
        "assert torch.allclose(my_output, target_output, atol=1e-6)"
      ],
      "execution_count": null,
      "outputs": []
    },
    {
      "cell_type": "markdown",
      "metadata": {
        "id": "XS6p45y4It01"
      },
      "source": [
        "## Testando a implementação com 8 exemplos do dataset do IMDB"
      ]
    },
    {
      "cell_type": "code",
      "metadata": {
        "id": "dm_WeJi-EciW"
      },
      "source": [
        "examples = [\n",
        "    \"THE TEMP (1993) didn't do much theatrical business, but here's the direct-to-video rip-off you didn't want, anyway! Ellen Bradford (Mel Harris) is the new woman at Millennium Investments, a high scale brokerage firm, who starts getting helpful hints from wide-eyed secretary Deidre (Sheila Kelley). Deidre turns out to be an ambitious daddy's girl who will stop at nothing to move up the corporate ladder, including screwing a top broker she can't stand and murdering anyone who gets on her bad side. She digs up skeletons in Ellen's closet, tries to cause problems with her husband (Barry Bostwick), kills while making it look like she is responsible, kidnaps her daughter and tries to get her to embezzle money from the company.<br /><br />Harris and Kelley deliver competent performances, the supporting cast is alright and it's reasonably well put-together, but that doesn't fully compensate for a script that travels down a well-worn path and offers few surprises.\",\n",
        "    \"Sondra Locke stinks in this film, but then she was an awful 'actress' anyway. Unfortunately, she drags everyone else (including then =real life boyfriend Clint Eastwood down the drain with her. But what was Clint Eastwood thinking when he agreed to star in this one? One read of the script should have told him that this one was going to be a real snorer. It's an exceptionally weak story, basically no story or plot at all. Add in bored, poor acting, even from the normally good Eastwood. There's absolutely no action except a couple arguments and as far as I was concerned, this film ranks up at the top of the heap of natural sleep enhancers. Wow! Could a film BE any more boring? I think watching paint dry or the grass grow might be more fun. A real stinker. Don't bother with this one.\",\n",
        "    \"Judy Davis shows us here why she is one of Australia's most respected and loved actors - her portrayal of a lonely, directionless nomad is first-rate. A teenaged Claudia Karvan also gives us a glimpse of what would make her one of this country's most popular actors in years to come, with future roles in THE BIG STEAL, THE HEARTBREAK KID, DATING THE ENEMY, RISK and the acclaimed TV series THE SECRET LIFE OF US. (Incidentally, Karvan, as a child, was a young girl whose toy Panda was stolen outside a chemist's shop in the 1983 drama GOING DOWN with Tracey Mann.) If this films comes your way, make sure you see it!! Rating: 79/100. See also: HOTEL SORRENTO, RADIANCE, VACANT POSSESSION, LANTANA.\",\n",
        "    'New York playwright Michael Caine (as Sidney Bruhl) is 46-years-old and fading fast; as the film opens, Mr. Caine\\'s latest play flops on Broadway. TV reviewers poke fun at Caine, and he gets drunk. Passing out on the Long Island Railroad lands Caine in Montauk, instead of his residence in East Hampton. Finally arriving home, Caine is comforted by tightly-attired wife Dyan Cannon (as Myra), an unfortunately high-strung heart patient. There, Caine and Ms. Cannon discuss a new play called \"Deathtrap\", written by hunky young Christopher Reeve (as Clifford \"Cliff\" Anderson), one of Caine\\'s former students. The couple believe Mr. Reeve\\'s \"Deathtrap\" is the hit needed to revive Caine\\'s career.<br /><br />\"The Trap Is Set\\x85 For A Wickedly Funny Who\\'ll-Do-It.\" <br /><br />Directed by Sidney Lumet, Ira Levin\\'s long-running Broadway hit doesn\\'t stray too far from its stage origin. The cast is enjoyable and the story\\'s twists are still engrossing. One thing that did not work (for me) was the curtain call ending; surely, it played better on stage. \"Deathtrap\" is a fun film to watch again; the performances are dead on - but, in hindsight, the greeting Reeve gives Caine at the East Hampton train station should have been simplified to a smiling \"Hello.\" The location isn\\'t really East Hampton, but the windmill and pond look similar. And, the much ballyhooed love scene is shockingly tepid. But, the play was so good, \"even a gifted director couldn\\'t ruin it.\" And, Mr. Lumet doesn\\'t disappoint.<br /><br />******** Deathtrap (3/19/82) Sidney Lumet ~ Michael Caine, Christopher Reeve, Dyan Cannon, Irene Worth',\n",
        "    'Students often ask me why I choose this version of Othello. Shakespeare\\'s text is strongly truncated and the film contains material which earned it an \"R\" rating.<br /><br />I have several reasons for using this production: First, I had not seen a depiction of the Moor that actually made me sympathetic to Othello until I saw Fishburne play him. I saw James Earl Jones and Christopher Plummer play Othello and Iago on Broadway, and it was wonderful. Plummer\\'s energy was especially noticeable. But in spite of Jone\\'s incredible presence both physically and vocally, the character he played just seemed too passive to illicit from me a complete emotional purgation in the Aristotelian sense. Jones, in fact, affirmed what I felt when in an interview he noted that he had played Othello as passive--seeing Iago as basically doing him over. Unfortunately this sapped my grief for the character destruction. Thus, I felt sympathy for Jone\\'s Moor but not the horror over his corruption by an evil man. In contrast, Fishburne\\'s Othello is a strong and vigorous figure familiar with taking action. Thus, Iago\\'s temptation to actively deal with what is presented to Othello as his wife\\'s unfaithfulness is a perversion of the general\\'s positive quality to be active not passive.1 The horror of the story is that this good quality in Othello becomes perverted. Fishburne\\'s depiction is therefore classically tragic.<br /><br />Second, Fishburne is the first black actor to play Othello in a film. Both Orsen Wells and Anthony Hopkins did fine film versions, but they were white men in black face.2 Why is this important? Why should a Black actor be the Black man on the stage?3 Certainly in Shakespeare\\'s day they used black face just as they used boys to make girls. Perhaps then, the reason is the same. Female actors bring a special quality to female roles on the Shakespearian stage because they understand best what Shakespeare\\'s genius was trying to present. A gifted black actor should play the moor because his experience in a white dominated culture is vital to understanding what Shakespeare\\'s genius recognized: the pain of being marginalized because of race. An important theme in Othello is isolation caused by racism. Although it is a mistake to insert American racism into a Shakespearian play, there can be little doubt that racism is still working among the characters. Many, including Desdimona\\'s father, think that a union between a Venetian white Christian woman and a North African black Christian man is UNNATURAL.<br /><br />Third, Shakespeare was never G rated. He never has been. His stage productions were always typified by violence and strong language. But Shakespeare\\'s genius uses these elements not as sensationialism but for artistic honesty.',\n",
        "    'Roeg has done some great movies, but this a turkey. It has a feel of a play written by an untalented high-school student for his class assignment. The set decoration is appealing in a somewhat surrealistic way, but the actual story is insufferable hokum.',\n",
        "    \"<br /><br />What is left of Planet Earth is populated by a few poor and starving rag-tag survivors. They must eat bugs and insects, or whatever, after a poison war, or something, has nearly wiped out all human civilization. In these dark times, one of the few people on Earth still able to live in comfort, we will call him the All Knowing Big Boss, has a great quest to prevent some secret spore seeds from being released into the air. It seems that the All Knowing Big Boss is the last person on Earth that knows that these spores even exist. The spores are located far away from any living soul, and they are highly protected by many layers of deadly defense systems. <br /><br />The All Knowing Big Boss wants the secret spores to remain in their secret protected containers. So, he makes a plan to send in a macho action team to remove the spore containers from all of the protective systems and secret location. Sending people to the location of secret spores makes them no longer a secret. Sending people to disable all of the protective systems makes it possible for the spores to be easily released into the air. How about letting sleeping dogs lie?! <br /><br />The one pleasant feature of ENCRYPT is the radiant and elegant Vivian Wu. As the unremarkable macho action team members drop off with mechanically paced predictable timing, engaging Vivian Wu's charm makes acceptable the plot idea of her old employer wanting her so much. She is an object of love, an object of desire -- a very believable concept!<br /><br />Fans of Vivian Wu may want to check out an outstanding B-movie she is in from a couple years back called DINNER RUSH. DINNER RUSH is highly recommended. ENCRYPT is not.\",\n",
        "    \"So the other night I decided to watch Tales from the Hollywood Hills: Natica Jackson. Or Power, Passion, Murder as it is called in Holland. When I bought the film I noticed that Michelle Pfeiffer was starring in it and I thought that had to say something about the quality. Unfortunately, it didn't.<br /><br />1) The plot of the film is really confusing. There are two story lines running simultaneously during the film. Only they have nothing in common. Throughout the entire movie I was waiting for the moment these two story lines would come together so the plot would be clear to me. But it still hasn't.<br /><br />2) The title of the film says the film will be about Natica Jackson. Well it is, sometimes. Like said the film covers two different stories and the part about Natica Jackson is the shortest. So another title for this movie would not be a wrong choice.<br /><br />To conclude my story, I really recommend that you leave this movie where it belongs, on the shelf in the store on a place nobody can see it. By doing this you won't waste 90 minutes of your life, as I did.\"         \n",
        "]"
      ],
      "execution_count": null,
      "outputs": []
    },
    {
      "cell_type": "code",
      "metadata": {
        "id": "glpuB87bI1_X"
      },
      "source": [
        "self_attention_layer = SelfAttentionLayerLoop(\n",
        "    embeddings=embeddings,\n",
        "    padding_idx=params['padding_idx'])\n",
        "\n",
        "batch_token_ids = []\n",
        "for example in examples:\n",
        "    token_ids = to_token_ids(\n",
        "        text=example,\n",
        "        vocab=vocab,\n",
        "        max_length=params['max_length'],\n",
        "        padding_idx=params['padding_idx'])\n",
        "    batch_token_ids.append(token_ids)\n",
        "\n",
        "batch_token_ids = torch.LongTensor(batch_token_ids)\n",
        "my_output = self_attention_layer(batch_token_ids)"
      ],
      "execution_count": null,
      "outputs": []
    },
    {
      "cell_type": "markdown",
      "metadata": {
        "id": "N0VUv1A_r5oO"
      },
      "source": [
        "Fazemos o download do tensor esperado e o comparamos com nossa saída"
      ]
    },
    {
      "cell_type": "code",
      "metadata": {
        "colab": {
          "base_uri": "https://localhost:8080/"
        },
        "id": "THva0R6h6A_e",
        "outputId": "81f73c7b-569e-4174-a5cd-ddb6c314c6a8"
      },
      "source": [
        "!wget https://storage.googleapis.com/neuralresearcher_data/unicamp/ia376e_2021s2/aula7/target_tensor.pt"
      ],
      "execution_count": null,
      "outputs": [
        {
          "output_type": "stream",
          "name": "stdout",
          "text": [
            "--2021-09-27 14:31:19--  https://storage.googleapis.com/neuralresearcher_data/unicamp/ia376e_2021s2/aula7/target_tensor.pt\n",
            "Resolving storage.googleapis.com (storage.googleapis.com)... 74.125.71.128, 74.125.133.128, 74.125.140.128, ...\n",
            "Connecting to storage.googleapis.com (storage.googleapis.com)|74.125.71.128|:443... connected.\n",
            "HTTP request sent, awaiting response... 200 OK\n",
            "Length: 10347 (10K) [application/octet-stream]\n",
            "Saving to: ‘target_tensor.pt’\n",
            "\n",
            "\rtarget_tensor.pt      0%[                    ]       0  --.-KB/s               \rtarget_tensor.pt    100%[===================>]  10.10K  --.-KB/s    in 0s      \n",
            "\n",
            "2021-09-27 14:31:19 (69.8 MB/s) - ‘target_tensor.pt’ saved [10347/10347]\n",
            "\n"
          ]
        }
      ]
    },
    {
      "cell_type": "code",
      "metadata": {
        "id": "p2C1ZvxoAkCN"
      },
      "source": [
        "target_output = torch.load('target_tensor.pt')"
      ],
      "execution_count": null,
      "outputs": []
    },
    {
      "cell_type": "code",
      "metadata": {
        "id": "1RNPTGnCLGBl"
      },
      "source": [
        "assert torch.allclose(my_output, target_output, atol=1e-6)"
      ],
      "execution_count": null,
      "outputs": []
    },
    {
      "cell_type": "code",
      "metadata": {
        "id": "xYCLHZpTl3qg"
      },
      "source": [
        "self_attention_layer = SelfAttentionLayerMatrix(\n",
        "    embeddings=embeddings,\n",
        "    padding_idx=params['padding_idx'])\n",
        "\n",
        "batch_token_ids = []\n",
        "for example in examples:\n",
        "    token_ids = to_token_ids(\n",
        "        text=example,\n",
        "        vocab=vocab,\n",
        "        max_length=params['max_length'],\n",
        "        padding_idx=params['padding_idx'])\n",
        "    batch_token_ids.append(token_ids)\n",
        "\n",
        "batch_token_ids = torch.LongTensor(batch_token_ids)\n",
        "my_output = self_attention_layer(batch_token_ids)"
      ],
      "execution_count": null,
      "outputs": []
    },
    {
      "cell_type": "code",
      "metadata": {
        "id": "pv3T9k8Vl30D"
      },
      "source": [
        "assert torch.allclose(my_output, target_output, atol=1e-6)"
      ],
      "execution_count": null,
      "outputs": []
    },
    {
      "cell_type": "markdown",
      "metadata": {
        "id": "TP0u_EvxveJC"
      },
      "source": [
        "# Env config"
      ]
    },
    {
      "cell_type": "code",
      "metadata": {
        "colab": {
          "base_uri": "https://localhost:8080/"
        },
        "id": "ZrtQoSC3vdKw",
        "outputId": "07e4bea5-a76e-4c3b-9165-f46050e38c19"
      },
      "source": [
        "if torch.cuda.is_available(): \n",
        "   dev = \"cuda:0\"\n",
        "   print(torch. cuda. get_device_name(dev))\n",
        "else: \n",
        "   dev = \"cpu\" \n",
        "print(dev)\n",
        "device = torch.device(dev)"
      ],
      "execution_count": null,
      "outputs": [
        {
          "output_type": "stream",
          "name": "stdout",
          "text": [
            "Tesla K80\n",
            "cuda:0\n"
          ]
        }
      ]
    },
    {
      "cell_type": "markdown",
      "metadata": {
        "id": "pBCYrKvbtwKo"
      },
      "source": [
        "# Dataset"
      ]
    },
    {
      "cell_type": "code",
      "metadata": {
        "id": "MYlSumAiqwVz"
      },
      "source": [
        "class Ex7_ds(torch.utils.data.Dataset):\n",
        "    def __init__(self, x, y, vocabulary, max_length, padding_idx):\n",
        "        self.x = x\n",
        "        self.y = y\n",
        "        self.vocabulary = vocabulary\n",
        "        self.max_length = max_length\n",
        "        self.padding_idx = padding_idx\n",
        "\n",
        "    def __len__(self):\n",
        "        return len(self.x)\n",
        "\n",
        "    def __getitem__(self, index):\n",
        "        tokens_idx = to_token_ids(\n",
        "            self.x[index],\n",
        "            self.vocabulary,\n",
        "            self.max_length,\n",
        "            self.padding_idx)\n",
        "        tokens_idx = torch.tensor(tokens_idx, dtype=torch.long)\n",
        "        outputs = torch.tensor(self.y[index], dtype=torch.long)\n",
        "        return tokens_idx, outputs"
      ],
      "execution_count": null,
      "outputs": []
    },
    {
      "cell_type": "markdown",
      "metadata": {
        "id": "wBj0HLTGuc_h"
      },
      "source": [
        "# Model"
      ]
    },
    {
      "cell_type": "code",
      "metadata": {
        "id": "TAtOWtJcufBs"
      },
      "source": [
        "class Ex7_model(torch.nn.Module):\n",
        "    def __init__(self, input, hidden, output, embeddings, padding_idx):\n",
        "        super(Ex7_model, self).__init__()\n",
        "        self.attention_layer = SelfAttentionLayerMatrix(embeddings=embeddings, padding_idx=padding_idx)\n",
        "        self.fst_linear_layer = torch.nn.Linear(input, hidden, device=device)        \n",
        "        self.snd_linear_layer = torch.nn.Linear(hidden, output, device=device)\n",
        "        self.relu = torch.nn.ReLU()\n",
        "\n",
        "    def forward(self, x):\n",
        "        x = self.attention_layer(x)\n",
        "        x = self.fst_linear_layer(x)\n",
        "        x = self.relu(x)\n",
        "        x = self.snd_linear_layer(x)\n",
        "        return x\n"
      ],
      "execution_count": null,
      "outputs": []
    },
    {
      "cell_type": "code",
      "metadata": {
        "colab": {
          "base_uri": "https://localhost:8080/"
        },
        "id": "MUmyAhMNvaZ0",
        "outputId": "0cab43e7-bc67-4ea8-b892-fe38d506191c"
      },
      "source": [
        "hyperparameters = { \"mode\": \"210923_Aula7\", \n",
        "          \"learning_rate\": 1e-2,\n",
        "          \"n_epochs\": 5,\n",
        "          \"batch_size\": 50,\n",
        "          \"hidden_size\": 128,\n",
        "          \"input_size\": glove_vectors.vectors.shape[1],\n",
        "          \"output_size\": 2 }\n",
        "model = Ex7_model(hyperparameters[\"input_size\"], hyperparameters[\"hidden_size\"],\n",
        "                  hyperparameters[\"output_size\"], embeddings, params['padding_idx'])\n",
        "model.to(device)\n",
        "print(model)"
      ],
      "execution_count": null,
      "outputs": [
        {
          "output_type": "stream",
          "name": "stdout",
          "text": [
            "Ex7_model(\n",
            "  (attention_layer): SelfAttentionLayerMatrix(\n",
            "    (C): Embedding(400002, 300, padding_idx=400001)\n",
            "  )\n",
            "  (fst_linear_layer): Linear(in_features=300, out_features=128, bias=True)\n",
            "  (snd_linear_layer): Linear(in_features=128, out_features=2, bias=True)\n",
            "  (relu): ReLU()\n",
            ")\n"
          ]
        }
      ]
    },
    {
      "cell_type": "markdown",
      "metadata": {
        "id": "AYynATgCvSKJ"
      },
      "source": [
        "# Install and config Neptune"
      ]
    },
    {
      "cell_type": "code",
      "metadata": {
        "colab": {
          "base_uri": "https://localhost:8080/",
          "height": 1000
        },
        "id": "Pdx3u8XgvUWn",
        "outputId": "1bc22bff-caee-4577-814b-ba970a272a8a"
      },
      "source": [
        "! pip install neptune-client"
      ],
      "execution_count": null,
      "outputs": [
        {
          "output_type": "stream",
          "name": "stdout",
          "text": [
            "Collecting neptune-client\n",
            "  Downloading neptune-client-0.11.0.tar.gz (269 kB)\n",
            "\u001b[K     |████████████████████████████████| 269 kB 12.5 MB/s \n",
            "\u001b[?25hCollecting bravado\n",
            "  Downloading bravado-11.0.3-py2.py3-none-any.whl (38 kB)\n",
            "Requirement already satisfied: click>=7.0 in /usr/local/lib/python3.7/dist-packages (from neptune-client) (7.1.2)\n",
            "Collecting future>=0.17.1\n",
            "  Downloading future-0.18.2.tar.gz (829 kB)\n",
            "\u001b[K     |████████████████████████████████| 829 kB 49.8 MB/s \n",
            "\u001b[?25hRequirement already satisfied: oauthlib>=2.1.0 in /usr/local/lib/python3.7/dist-packages (from neptune-client) (3.1.1)\n",
            "Requirement already satisfied: pandas in /usr/local/lib/python3.7/dist-packages (from neptune-client) (1.1.5)\n",
            "Requirement already satisfied: Pillow>=1.1.6 in /usr/local/lib/python3.7/dist-packages (from neptune-client) (7.1.2)\n",
            "Collecting PyJWT\n",
            "  Downloading PyJWT-2.1.0-py3-none-any.whl (16 kB)\n",
            "Requirement already satisfied: requests>=2.20.0 in /usr/local/lib/python3.7/dist-packages (from neptune-client) (2.23.0)\n",
            "Requirement already satisfied: requests-oauthlib>=1.0.0 in /usr/local/lib/python3.7/dist-packages (from neptune-client) (1.3.0)\n",
            "Requirement already satisfied: six>=1.12.0 in /usr/local/lib/python3.7/dist-packages (from neptune-client) (1.15.0)\n",
            "Collecting websocket-client!=1.0.0,>=0.35.0\n",
            "  Downloading websocket_client-1.2.1-py2.py3-none-any.whl (52 kB)\n",
            "\u001b[K     |████████████████████████████████| 52 kB 1.3 MB/s \n",
            "\u001b[?25hCollecting GitPython>=2.0.8\n",
            "  Downloading GitPython-3.1.24-py3-none-any.whl (180 kB)\n",
            "\u001b[K     |████████████████████████████████| 180 kB 51.4 MB/s \n",
            "\u001b[?25hCollecting boto3>=1.16.0\n",
            "  Downloading boto3-1.18.48-py3-none-any.whl (131 kB)\n",
            "\u001b[K     |████████████████████████████████| 131 kB 37.1 MB/s \n",
            "\u001b[?25hRequirement already satisfied: packaging in /usr/local/lib/python3.7/dist-packages (from neptune-client) (21.0)\n",
            "Requirement already satisfied: urllib3 in /usr/local/lib/python3.7/dist-packages (from neptune-client) (1.24.3)\n",
            "Requirement already satisfied: psutil in /usr/local/lib/python3.7/dist-packages (from neptune-client) (5.4.8)\n",
            "Collecting s3transfer<0.6.0,>=0.5.0\n",
            "  Downloading s3transfer-0.5.0-py3-none-any.whl (79 kB)\n",
            "\u001b[K     |████████████████████████████████| 79 kB 7.6 MB/s \n",
            "\u001b[?25hCollecting jmespath<1.0.0,>=0.7.1\n",
            "  Downloading jmespath-0.10.0-py2.py3-none-any.whl (24 kB)\n",
            "Collecting botocore<1.22.0,>=1.21.48\n",
            "  Downloading botocore-1.21.48-py3-none-any.whl (7.9 MB)\n",
            "\u001b[K     |████████████████████████████████| 7.9 MB 43.9 MB/s \n",
            "\u001b[?25hRequirement already satisfied: python-dateutil<3.0.0,>=2.1 in /usr/local/lib/python3.7/dist-packages (from botocore<1.22.0,>=1.21.48->boto3>=1.16.0->neptune-client) (2.8.2)\n",
            "Collecting urllib3\n",
            "  Downloading urllib3-1.26.7-py2.py3-none-any.whl (138 kB)\n",
            "\u001b[K     |████████████████████████████████| 138 kB 41.5 MB/s \n",
            "\u001b[?25hRequirement already satisfied: typing-extensions>=3.7.4.3 in /usr/local/lib/python3.7/dist-packages (from GitPython>=2.0.8->neptune-client) (3.7.4.3)\n",
            "Collecting gitdb<5,>=4.0.1\n",
            "  Downloading gitdb-4.0.7-py3-none-any.whl (63 kB)\n",
            "\u001b[K     |████████████████████████████████| 63 kB 1.8 MB/s \n",
            "\u001b[?25hCollecting smmap<5,>=3.0.1\n",
            "  Downloading smmap-4.0.0-py2.py3-none-any.whl (24 kB)\n",
            "Requirement already satisfied: idna<3,>=2.5 in /usr/local/lib/python3.7/dist-packages (from requests>=2.20.0->neptune-client) (2.10)\n",
            "Requirement already satisfied: certifi>=2017.4.17 in /usr/local/lib/python3.7/dist-packages (from requests>=2.20.0->neptune-client) (2021.5.30)\n",
            "Collecting urllib3\n",
            "  Downloading urllib3-1.25.11-py2.py3-none-any.whl (127 kB)\n",
            "\u001b[K     |████████████████████████████████| 127 kB 48.6 MB/s \n",
            "\u001b[?25hRequirement already satisfied: chardet<4,>=3.0.2 in /usr/local/lib/python3.7/dist-packages (from requests>=2.20.0->neptune-client) (3.0.4)\n",
            "Collecting monotonic\n",
            "  Downloading monotonic-1.6-py2.py3-none-any.whl (8.2 kB)\n",
            "Collecting simplejson\n",
            "  Downloading simplejson-3.17.5-cp37-cp37m-manylinux_2_5_x86_64.manylinux1_x86_64.manylinux_2_12_x86_64.manylinux2010_x86_64.whl (129 kB)\n",
            "\u001b[K     |████████████████████████████████| 129 kB 50.6 MB/s \n",
            "\u001b[?25hRequirement already satisfied: msgpack in /usr/local/lib/python3.7/dist-packages (from bravado->neptune-client) (1.0.2)\n",
            "Requirement already satisfied: pyyaml in /usr/local/lib/python3.7/dist-packages (from bravado->neptune-client) (3.13)\n",
            "Collecting bravado-core>=5.16.1\n",
            "  Downloading bravado_core-5.17.0-py2.py3-none-any.whl (67 kB)\n",
            "\u001b[K     |████████████████████████████████| 67 kB 5.6 MB/s \n",
            "\u001b[?25hCollecting jsonref\n",
            "  Downloading jsonref-0.2-py3-none-any.whl (9.3 kB)\n",
            "Requirement already satisfied: pytz in /usr/local/lib/python3.7/dist-packages (from bravado-core>=5.16.1->bravado->neptune-client) (2018.9)\n",
            "Requirement already satisfied: jsonschema[format]>=2.5.1 in /usr/local/lib/python3.7/dist-packages (from bravado-core>=5.16.1->bravado->neptune-client) (2.6.0)\n",
            "Collecting swagger-spec-validator>=2.0.1\n",
            "  Downloading swagger_spec_validator-2.7.3-py2.py3-none-any.whl (27 kB)\n",
            "Collecting rfc3987\n",
            "  Downloading rfc3987-1.3.8-py2.py3-none-any.whl (13 kB)\n",
            "Collecting strict-rfc3339\n",
            "  Downloading strict-rfc3339-0.7.tar.gz (17 kB)\n",
            "Collecting webcolors\n",
            "  Downloading webcolors-1.11.1-py3-none-any.whl (9.9 kB)\n",
            "Requirement already satisfied: pyparsing>=2.0.2 in /usr/local/lib/python3.7/dist-packages (from packaging->neptune-client) (2.4.7)\n",
            "Requirement already satisfied: numpy>=1.15.4 in /usr/local/lib/python3.7/dist-packages (from pandas->neptune-client) (1.19.5)\n",
            "Building wheels for collected packages: neptune-client, future, strict-rfc3339\n",
            "  Building wheel for neptune-client (setup.py) ... \u001b[?25l\u001b[?25hdone\n",
            "  Created wheel for neptune-client: filename=neptune_client-0.11.0-py2.py3-none-any.whl size=465814 sha256=2ea4e4a55605c31b9764fcd2dfe04be7eaae9af16c09d2f4216358abf8701fc0\n",
            "  Stored in directory: /root/.cache/pip/wheels/3f/8e/62/53218bb22af6023b996288f379ea4844718519ba0f2acdf7b0\n",
            "  Building wheel for future (setup.py) ... \u001b[?25l\u001b[?25hdone\n",
            "  Created wheel for future: filename=future-0.18.2-py3-none-any.whl size=491070 sha256=24cb6040921522869d70cfa4b706d8b6eae9c802e9ae1b664903dc37e702103d\n",
            "  Stored in directory: /root/.cache/pip/wheels/56/b0/fe/4410d17b32f1f0c3cf54cdfb2bc04d7b4b8f4ae377e2229ba0\n",
            "  Building wheel for strict-rfc3339 (setup.py) ... \u001b[?25l\u001b[?25hdone\n",
            "  Created wheel for strict-rfc3339: filename=strict_rfc3339-0.7-py3-none-any.whl size=18149 sha256=678d25a026c8799f2ca1df5e51cff2ae73926dc4341e5f31b6f9e54770777768\n",
            "  Stored in directory: /root/.cache/pip/wheels/f3/1d/9f/2a74caecb81b8beb9a4fbe1754203d4b7cf42ef5d39e0d2311\n",
            "Successfully built neptune-client future strict-rfc3339\n",
            "Installing collected packages: webcolors, urllib3, strict-rfc3339, rfc3987, jmespath, swagger-spec-validator, smmap, simplejson, jsonref, botocore, s3transfer, monotonic, gitdb, bravado-core, websocket-client, PyJWT, GitPython, future, bravado, boto3, neptune-client\n",
            "  Attempting uninstall: urllib3\n",
            "    Found existing installation: urllib3 1.24.3\n",
            "    Uninstalling urllib3-1.24.3:\n",
            "      Successfully uninstalled urllib3-1.24.3\n",
            "  Attempting uninstall: future\n",
            "    Found existing installation: future 0.16.0\n",
            "    Uninstalling future-0.16.0:\n",
            "      Successfully uninstalled future-0.16.0\n",
            "\u001b[31mERROR: pip's dependency resolver does not currently take into account all the packages that are installed. This behaviour is the source of the following dependency conflicts.\n",
            "datascience 0.10.6 requires folium==0.2.1, but you have folium 0.8.3 which is incompatible.\u001b[0m\n",
            "Successfully installed GitPython-3.1.24 PyJWT-2.1.0 boto3-1.18.48 botocore-1.21.48 bravado-11.0.3 bravado-core-5.17.0 future-0.18.2 gitdb-4.0.7 jmespath-0.10.0 jsonref-0.2 monotonic-1.6 neptune-client-0.11.0 rfc3987-1.3.8 s3transfer-0.5.0 simplejson-3.17.5 smmap-4.0.0 strict-rfc3339-0.7 swagger-spec-validator-2.7.3 urllib3-1.25.11 webcolors-1.11.1 websocket-client-1.2.1\n"
          ]
        },
        {
          "output_type": "display_data",
          "data": {
            "application/vnd.colab-display-data+json": {
              "pip_warning": {
                "packages": [
                  "urllib3"
                ]
              }
            }
          },
          "metadata": {}
        }
      ]
    },
    {
      "cell_type": "code",
      "metadata": {
        "colab": {
          "base_uri": "https://localhost:8080/"
        },
        "id": "gryIpiOqvVoN",
        "outputId": "8973a5c0-ba14-492c-88c5-5dde89dd3f18"
      },
      "source": [
        "import neptune.new as neptune\n",
        "\n",
        "run = neptune.init(project='leolellisr/nlp-imbd-large', api_token='eyJhcGlfYWRkcmVzcyI6Imh0dHBzOi8vYXBwLm5lcHR1bmUuYWkiLCJhcGlfdXJsIjoiaHR0cHM6Ly9hcHAubmVwdHVuZS5haSIsImFwaV9rZXkiOiI1NjY1YmJkZi1hYmM5LTQ3M2QtOGU1ZC1iZTFlNWY4NjE1NDQifQ==')"
      ],
      "execution_count": null,
      "outputs": [
        {
          "output_type": "stream",
          "name": "stdout",
          "text": [
            "https://app.neptune.ai/leolellisr/nlp-imbd-large/e/NIMBL-50\n",
            "Remember to stop your run once you’ve finished logging your metadata (https://docs.neptune.ai/api-reference/run#stop). It will be stopped automatically only when the notebook kernel/interactive console is terminated.\n"
          ]
        }
      ]
    },
    {
      "cell_type": "markdown",
      "metadata": {
        "id": "DExdkmliyYQA"
      },
      "source": [
        "# Train Loop"
      ]
    },
    {
      "cell_type": "code",
      "metadata": {
        "id": "0glR5MvJ2vy1"
      },
      "source": [
        "criterion = torch.nn.CrossEntropyLoss()"
      ],
      "execution_count": null,
      "outputs": []
    },
    {
      "cell_type": "code",
      "metadata": {
        "id": "9lMjCNp6yaoV"
      },
      "source": [
        "def train_loop(dataloader_train, dataloader_val, hyperparameters, model):\n",
        "    min_val_loss = 10e9\n",
        "    best_model = 'best_model.pt'\n",
        "\n",
        "    # Gradient descent\n",
        "    optimizer = torch.optim.Adam(model.parameters(), lr=hyperparameters['learning_rate'])\n",
        "    best_epoch = 0\n",
        "\n",
        "    for epoch in range(hyperparameters['n_epochs']):\n",
        "      train_loss = 0\n",
        "      model.train()\n",
        "      for x_train, y_train in dataloader_train:\n",
        "            # transform to one dimmension\n",
        "        x_train = x_train.to(device)\n",
        "        y_train = y_train.to(device) \n",
        "        \n",
        "        outputs = model(x_train)\n",
        "\n",
        "            # batch loss\n",
        "        batch_loss = criterion(outputs, y_train)\n",
        "\n",
        "            # reset gradients, backpropagation, optimizer step and sum loss\n",
        "        optimizer.zero_grad()\n",
        "        batch_loss.backward()\n",
        "        optimizer.step()\n",
        "        train_loss += batch_loss.item()\n",
        "            #print(f'{hyperparameters[\"name\"]}_train/batch_loss: {batch_loss}')\n",
        "        run[f'{hyperparameters[\"mode\"]}_train/batch_loss'].log(batch_loss)\n",
        "\n",
        "      train_loss = train_loss / len(dataloader_train.dataset)\n",
        "        #print(f'Epoch {epoch} / {hyperparameters[\"name\"]} train loss: {train_loss}')\n",
        "      run[f'{hyperparameters[\"mode\"]}_train/train_loss'].log(train_loss) \n",
        "\n",
        "        # Validation (end of epoch).\n",
        "      total_loss = 0\n",
        "      total_acc = 0\n",
        "      model.eval()\n",
        "      with torch.no_grad():\n",
        "        for x_val, y_val in dataloader_val:\n",
        "          x_val = x_val.to(device)\n",
        "          y_val = y_val.to(device)\n",
        "\n",
        "                # predict\n",
        "          outputs = model(x_val)\n",
        "\n",
        "                # batch loss\n",
        "          batch_loss = criterion(outputs, y_val)\n",
        "          preds = outputs.argmax(dim=1)\n",
        "          total_loss += batch_loss.item()\n",
        "\n",
        "          batch_acc = (preds == y_val).sum()\n",
        "          total_acc += batch_acc\n",
        "      val_loss = total_loss / len(dataloader_val.dataset)\n",
        "      run[f'{hyperparameters[\"mode\"]}_val/val_loss'].log(val_loss)\n",
        "\n",
        "      val_acc = total_acc / len(dataloader_val.dataset)\n",
        "      run[f'{hyperparameters[\"mode\"]}_val/val_acuracy'].log(total_acc / len(dataloader_val.dataset))\n",
        "      \n",
        "      print(f'Model: {hyperparameters[\"mode\"]}, Epoch: {epoch+1}/{hyperparameters[\"n_epochs\"]} - train_loss: {train_loss} - val_loss: {val_loss} - acc: {total_acc / len(dataloader_val.dataset)*100} %')\n",
        "\n",
        "        # Save best model\n",
        "      if val_loss < min_val_loss:\n",
        "        torch.save(model.state_dict(), 'best_model.pt')\n",
        "        min_val_loss = val_loss\n",
        "        best_epoch = epoch\n",
        "        print(f'Model: {hyperparameters[\"mode\"]} - best model in epoch: {best_epoch+1}')\n"
      ],
      "execution_count": null,
      "outputs": []
    },
    {
      "cell_type": "code",
      "metadata": {
        "id": "lsuNHTPX0ugb"
      },
      "source": [
        "def predict(model, dataloader_test):\n",
        "    best_model = 'best_model.pt'\n",
        "    model.load_state_dict(torch.load(best_model))\n",
        "    model.eval()\n",
        "    model.to(device)\n",
        "    floss = 0\n",
        "    total_acc = 0\n",
        "    with torch.no_grad():\n",
        "      for x_t, y_t in dataloader_test:\n",
        "        x_t = x_t.to(device)\n",
        "        y_t = y_t.to(device)\n",
        "\n",
        "        outputs = model(x_t)\n",
        "        loss = criterion(outputs, y_t)\n",
        "        floss += loss\n",
        "        pred = outputs.argmax(dim=1)\n",
        "        batch_acc = (pred == y_t).sum()\n",
        "        total_acc += batch_acc\n",
        "    \n",
        "      test_acc = total_acc / len(dataloader_test.dataset)    \n",
        "    return { \n",
        "        'loss':  floss / len(dataloader_test.dataset),\n",
        "        'acc': test_acc\n",
        "    }"
      ],
      "execution_count": null,
      "outputs": []
    },
    {
      "cell_type": "markdown",
      "metadata": {
        "id": "5-Aa_FiH1NVx"
      },
      "source": [
        "# List to dict"
      ]
    },
    {
      "cell_type": "code",
      "metadata": {
        "id": "z272Qdyd1P3v"
      },
      "source": [
        "# Transform list to dict\n",
        "x_train = {num: i for num, i in enumerate(x_train)}\n",
        "y_train = {num: i for num, i in enumerate(y_train)}\n",
        "x_valid = {num: i for num, i in enumerate(x_valid)}\n",
        "y_valid = {num: i for num, i in enumerate(y_valid)}\n",
        "x_test = {num: i for num, i in enumerate(x_test)}\n",
        "y_test = {num: i for num, i in enumerate(y_test)}"
      ],
      "execution_count": null,
      "outputs": []
    },
    {
      "cell_type": "markdown",
      "metadata": {
        "id": "CcUB_WfN1S6j"
      },
      "source": [
        "# Training"
      ]
    },
    {
      "cell_type": "code",
      "metadata": {
        "id": "R8askarI2b62"
      },
      "source": [
        "from torch.utils.data import DataLoader"
      ],
      "execution_count": null,
      "outputs": []
    },
    {
      "cell_type": "code",
      "metadata": {
        "id": "GSzVEQnz1VjA"
      },
      "source": [
        "train_ds = Ex7_ds(x_train, y_train, vocab, params['max_length'], params['padding_idx'])\n",
        "val_ds = Ex7_ds(x_valid, y_valid, vocab, params['max_length'], params['padding_idx'])\n",
        "dataloader_train = DataLoader(train_ds, batch_size=hyperparameters['batch_size'], shuffle=True)\n",
        "dataloader_val = DataLoader(val_ds, batch_size=hyperparameters['batch_size'], shuffle=False)  "
      ],
      "execution_count": null,
      "outputs": []
    },
    {
      "cell_type": "code",
      "metadata": {
        "colab": {
          "base_uri": "https://localhost:8080/"
        },
        "id": "BeiQHsit1gGc",
        "outputId": "1c1d8873-c948-406e-f232-d476458531c7"
      },
      "source": [
        "train_loop(dataloader_train, dataloader_val, hyperparameters, model)   "
      ],
      "execution_count": null,
      "outputs": [
        {
          "output_type": "stream",
          "name": "stdout",
          "text": [
            "Model: 210923_Aula7, Epoch: 1/5 - train_loss: 0.009604181499779225 - val_loss: 0.008486265176534653 - acc: 80.86000061035156 %\n",
            "Model: 210923_Aula7 - best model in epoch: 1\n",
            "Model: 210923_Aula7, Epoch: 2/5 - train_loss: 0.008652994471788406 - val_loss: 0.00839058507680893 - acc: 80.87999725341797 %\n",
            "Model: 210923_Aula7 - best model in epoch: 2\n",
            "Model: 210923_Aula7, Epoch: 3/5 - train_loss: 0.008632353458553553 - val_loss: 0.008271433514356613 - acc: 81.54000091552734 %\n",
            "Model: 210923_Aula7 - best model in epoch: 3\n",
            "Model: 210923_Aula7, Epoch: 4/5 - train_loss: 0.008469433856010436 - val_loss: 0.008206213411688805 - acc: 81.55999755859375 %\n",
            "Model: 210923_Aula7 - best model in epoch: 4\n",
            "Model: 210923_Aula7, Epoch: 5/5 - train_loss: 0.008328245906531811 - val_loss: 0.008602176690101623 - acc: 80.1199951171875 %\n"
          ]
        }
      ]
    },
    {
      "cell_type": "code",
      "metadata": {
        "id": "FjgLZQfA1ql9"
      },
      "source": [
        "del train_ds\n",
        "del val_ds\n",
        "del dataloader_train\n",
        "del dataloader_val"
      ],
      "execution_count": null,
      "outputs": []
    },
    {
      "cell_type": "code",
      "metadata": {
        "colab": {
          "base_uri": "https://localhost:8080/"
        },
        "id": "sQxQGXu31sTO",
        "outputId": "19aaa79c-6e47-4c37-c63f-a341c3eb659d"
      },
      "source": [
        "test_ds = Ex7_ds(x_test, y_test, vocab, params['max_length'], params['padding_idx'])\n",
        "dataloader_test = DataLoader(test_ds, batch_size=hyperparameters['batch_size'], shuffle=False)  \n",
        "print(predict(model,dataloader_test))"
      ],
      "execution_count": null,
      "outputs": [
        {
          "output_type": "stream",
          "name": "stdout",
          "text": [
            "{'loss': tensor(0.0083, device='cuda:0'), 'acc': tensor(0.8068, device='cuda:0')}\n"
          ]
        }
      ]
    },
    {
      "cell_type": "code",
      "metadata": {
        "colab": {
          "base_uri": "https://localhost:8080/"
        },
        "id": "sDxHg4t111Pn",
        "outputId": "9ea0803b-ca3b-4263-bede-b130948d175b"
      },
      "source": [
        "run.stop()"
      ],
      "execution_count": null,
      "outputs": [
        {
          "output_type": "stream",
          "name": "stdout",
          "text": [
            "Shutting down background jobs, please wait a moment...\n",
            "Done!\n"
          ]
        },
        {
          "output_type": "stream",
          "name": "stderr",
          "text": [
            "Waiting for the remaining 1 operations to synchronize with Neptune. Do not kill this process.\n"
          ]
        },
        {
          "output_type": "stream",
          "name": "stdout",
          "text": [
            "All 1 operations synced, thanks for waiting!\n"
          ]
        }
      ]
    },
    {
      "cell_type": "code",
      "metadata": {
        "id": "Lj0AhOTU3w6c"
      },
      "source": [
        ""
      ],
      "execution_count": null,
      "outputs": []
    }
  ]
}