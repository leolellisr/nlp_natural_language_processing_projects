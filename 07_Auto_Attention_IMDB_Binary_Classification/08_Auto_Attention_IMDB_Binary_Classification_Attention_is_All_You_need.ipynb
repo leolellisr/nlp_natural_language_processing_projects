{
  "nbformat": 4,
  "nbformat_minor": 0,
  "metadata": {
    "colab": {
      "name": "210930_Aula 8_Leonardo de Lellis Rossi",
      "provenance": [],
      "collapsed_sections": [],
      "include_colab_link": true
    },
    "kernelspec": {
      "name": "python3",
      "display_name": "Python 3"
    },
    "accelerator": "GPU"
  },
  "cells": [
    {
      "cell_type": "markdown",
      "metadata": {
        "id": "view-in-github",
        "colab_type": "text"
      },
      "source": [
        "<a href=\"https://colab.research.google.com/github/leolellisr/npl_natural_language_processing_projects/blob/main/07_Auto_Attention_IMDB_Binary_Classification/08_Auto_Attention_IMDB_Binary_Classification_Attention_is_All_You_need.ipynb\" target=\"_parent\"><img src=\"https://colab.research.google.com/assets/colab-badge.svg\" alt=\"Open In Colab\"/></a>"
      ]
    },
    {
      "cell_type": "markdown",
      "metadata": {
        "id": "1OG5DT_dm6mk"
      },
      "source": [
        "# Notebook de referência \n",
        "\n",
        "Nome: Leonardo de Lellis Rossi\n",
        "\n",
        "https://app.neptune.ai/leolellisr/nlp-imbd-large/e/NIMBL-52/charts"
      ]
    },
    {
      "cell_type": "markdown",
      "metadata": {
        "id": "LZ80hHaftwUd"
      },
      "source": [
        "## Instruções:\n",
        "\n",
        "Treinar e medir a acurácia de um modelo de classificação binária usando o dataset do IMDB (20k/5k amostras de treino/validação).\n",
        "O modelo deverá ter uma camada de auto-atenção completa igual à do artigo do \"Attention is All You Need\".\n",
        "\n",
        "Implementar a Análise de Sentimento do IMDB, igual ao da semana passada (IMDB), mas agora usando a atenção \"completa\":\n",
        "- Embeddings de posição\n",
        "- Projeções lineares (WQ, WK, WV, WO)\n",
        "- Scaled Dot-product\n",
        "- Multi-head\n",
        "- Layer Normalization\n",
        "- Conexões residuais\n",
        "- Camada de feed forward (2-layer MLP)\n",
        "\n",
        "Note que não devemos usar dropout para passar nos asserts.\n",
        "\n",
        "Deverá ser entregue apenas a implementação matricial, ou seja, não precisa implementar a forma em laço.\n",
        "\n",
        "Devemos usar embeddings pretreinados do Glove como entrada para a camada de auto-atenção. Lembrar de congelá-los pois, caso contrário,  pode ocorrer overfit.\n",
        "\n",
        "Ao corrigir o exercicio, iremos também nos atentar na eficiencia/velocidade das implementações.\n",
        "\n",
        "Dicas:\n",
        "- A dificuldade deste exercício será implementar a auto-atenção de forma matricial usando minibatches. Para lidar com exemplos de tamanho variável, deve-se truncá-los e aplicar padding.\n",
        "\n",
        "- Evitar usar qualquer laço na implementação matricial, pois isso a deixará muito ineficiente.\n"
      ]
    },
    {
      "cell_type": "markdown",
      "metadata": {
        "id": "ojyVOubollcH"
      },
      "source": [
        "## Definindo os parametros"
      ]
    },
    {
      "cell_type": "code",
      "metadata": {
        "id": "F-YHxi_AllQZ"
      },
      "source": [
        "params = {\n",
        "    'vocabulary_size': 400000,\n",
        "    'padding_idx': 400001,\n",
        "    'max_length': 200,\n",
        "    'dim': 300,\n",
        "    'n_heads': 6,\n",
        "}"
      ],
      "execution_count": null,
      "outputs": []
    },
    {
      "cell_type": "markdown",
      "metadata": {
        "id": "uhpAkifICdJo"
      },
      "source": [
        "# Fixando a seed"
      ]
    },
    {
      "cell_type": "code",
      "metadata": {
        "id": "1ozXD-xYCcrT"
      },
      "source": [
        "import random\n",
        "import torch\n",
        "import torch.nn.functional as F\n",
        "import numpy as np"
      ],
      "execution_count": null,
      "outputs": []
    },
    {
      "cell_type": "code",
      "metadata": {
        "id": "wHeZ9nAOEB0U"
      },
      "source": [
        "def set_seeds():\n",
        "  random.seed(123)\n",
        "  np.random.seed(123)\n",
        "  torch.manual_seed(123)\n",
        "\n",
        "set_seeds()"
      ],
      "execution_count": null,
      "outputs": []
    },
    {
      "cell_type": "markdown",
      "metadata": {
        "id": "CXFdJz2KVeQw"
      },
      "source": [
        "## Preparando Dados"
      ]
    },
    {
      "cell_type": "markdown",
      "metadata": {
        "id": "gHMi_Kq65fPM"
      },
      "source": [
        "Primeiro, fazemos download do dataset:"
      ]
    },
    {
      "cell_type": "code",
      "metadata": {
        "id": "2wbnfzst5O3k",
        "colab": {
          "base_uri": "https://localhost:8080/"
        },
        "outputId": "f7f899b9-763b-4f76-821d-2bc1265d2d92"
      },
      "source": [
        "!wget -nc http://files.fast.ai/data/aclImdb.tgz \n",
        "!tar -xzf aclImdb.tgz"
      ],
      "execution_count": null,
      "outputs": [
        {
          "output_type": "stream",
          "name": "stdout",
          "text": [
            "File ‘aclImdb.tgz’ already there; not retrieving.\n",
            "\n"
          ]
        }
      ]
    },
    {
      "cell_type": "markdown",
      "metadata": {
        "id": "0Giyi5Rv_NIm"
      },
      "source": [
        "## Carregando o dataset\n",
        "\n",
        "Criaremos uma divisão de treino (20k exemplos) e validação (5k exemplos) artificialmente."
      ]
    },
    {
      "cell_type": "code",
      "metadata": {
        "id": "0HIN_xLI_TuT",
        "colab": {
          "base_uri": "https://localhost:8080/"
        },
        "outputId": "d3e0609a-3a6e-49f1-d817-817ce213b66f"
      },
      "source": [
        "import os\n",
        "\n",
        "max_valid = 5000\n",
        "\n",
        "def load_texts(folder):\n",
        "    texts = []\n",
        "    for path in os.listdir(folder):\n",
        "        with open(os.path.join(folder, path)) as f:\n",
        "            texts.append(f.read())\n",
        "    return texts\n",
        "\n",
        "x_train_pos = load_texts('aclImdb/train/pos')\n",
        "x_train_neg = load_texts('aclImdb/train/neg')\n",
        "x_test_pos = load_texts('aclImdb/test/pos')\n",
        "x_test_neg = load_texts('aclImdb/test/neg')\n",
        "\n",
        "x_train = x_train_pos + x_train_neg\n",
        "x_test = x_test_pos + x_test_neg\n",
        "y_train = [True] * len(x_train_pos) + [False] * len(x_train_neg)\n",
        "y_test = [True] * len(x_test_pos) + [False] * len(x_test_neg)\n",
        "\n",
        "# Embaralhamos o treino para depois fazermos a divisão treino/valid.\n",
        "c = list(zip(x_train, y_train))\n",
        "random.shuffle(c)\n",
        "x_train, y_train = zip(*c)\n",
        "\n",
        "x_valid = x_train[-max_valid:]\n",
        "y_valid = y_train[-max_valid:]\n",
        "x_train = x_train[:-max_valid]\n",
        "y_train = y_train[:-max_valid]\n",
        "\n",
        "print(len(x_train), 'amostras de treino.')\n",
        "print(len(x_valid), 'amostras de desenvolvimento.')\n",
        "print(len(x_test), 'amostras de teste.')\n",
        "\n",
        "print('3 primeiras amostras treino:')\n",
        "for x, y in zip(x_train[:3], y_train[:3]):\n",
        "    print(y, x[:100])\n",
        "\n",
        "print('3 últimas amostras treino:')\n",
        "for x, y in zip(x_train[-3:], y_train[-3:]):\n",
        "    print(y, x[:100])\n",
        "\n",
        "print('3 primeiras amostras validação:')\n",
        "for x, y in zip(x_valid[:3], y_test[:3]):\n",
        "    print(y, x[:100])\n",
        "\n",
        "print('3 últimas amostras validação:')\n",
        "for x, y in zip(x_valid[-3:], y_valid[-3:]):\n",
        "    print(y, x[:100])"
      ],
      "execution_count": null,
      "outputs": [
        {
          "output_type": "stream",
          "name": "stdout",
          "text": [
            "20000 amostras de treino.\n",
            "5000 amostras de desenvolvimento.\n",
            "25000 amostras de teste.\n",
            "3 primeiras amostras treino:\n",
            "False It's nothing more than a weird coincidence that I decided to watch STARLIFT on the 59th anniversary \n",
            "False I am wanting to make a \"Holmes with Doors\" pun but I can't quite string it all together. Suitably gr\n",
            "True All the folks who sit here and say that this movie's weak link is the Ramones would probably say tha\n",
            "3 últimas amostras treino:\n",
            "False It's somewhat telling that most of the great reviews for the film on IMDb all come from people who h\n",
            "True This is a bit long (2 hours, 20 minutes) but it had a a lot of the famous Pearl Buck novel in it. In\n",
            "True Surprisingly good. The acting was fun, the screenplay was fun, the music was cheesie fun, the plot w\n",
            "3 primeiras amostras validação:\n",
            "True Of all the kung-fu films made through the 70's and 80's this is one that has developed a real cult f\n",
            "True Excellent film dealing with the life of an old man as he looks back over the years. Starting around \n",
            "True Good movies are original, some leave a message or touch you in a certain way, but sometimes you're n\n",
            "3 últimas amostras validação:\n",
            "True This movie is why I found this website. I couldn't find this movie anywhere else! I am so glad we fo\n",
            "True I loved this movie. I knew it would be chocked full of camp and silliness like the original series. \n",
            "True I was all ready to pan this episode, seeing that this 'Master' really doesn't have any horror films \n"
          ]
        }
      ]
    },
    {
      "cell_type": "markdown",
      "metadata": {
        "id": "0c_-4MRtsOL_"
      },
      "source": [
        "# Carregando os embeddings do Glove"
      ]
    },
    {
      "cell_type": "code",
      "metadata": {
        "colab": {
          "base_uri": "https://localhost:8080/"
        },
        "id": "A5h_a9nvs5FJ",
        "outputId": "ddb44c4c-44b5-476e-c457-cdbc71a7e462"
      },
      "source": [
        "!wget -nc http://nlp.stanford.edu/data/glove.6B.zip\n",
        "!unzip -o glove.6B.zip -d glove_dir"
      ],
      "execution_count": null,
      "outputs": [
        {
          "output_type": "stream",
          "name": "stdout",
          "text": [
            "File ‘glove.6B.zip’ already there; not retrieving.\n",
            "\n",
            "Archive:  glove.6B.zip\n",
            "  inflating: glove_dir/glove.6B.50d.txt  \n",
            "  inflating: glove_dir/glove.6B.100d.txt  \n",
            "  inflating: glove_dir/glove.6B.200d.txt  \n",
            "  inflating: glove_dir/glove.6B.300d.txt  \n"
          ]
        }
      ]
    },
    {
      "cell_type": "code",
      "metadata": {
        "id": "D9NSvROYvnWY"
      },
      "source": [
        "from torchtext.vocab import GloVe\n",
        "glove_vectors = GloVe(name='6B', dim=300, cache='./glove_dir')"
      ],
      "execution_count": null,
      "outputs": []
    },
    {
      "cell_type": "code",
      "metadata": {
        "id": "dz4RNqJ3wNzn",
        "colab": {
          "base_uri": "https://localhost:8080/"
        },
        "outputId": "3a54ecc3-a93f-481e-fc5b-9a79e1325977"
      },
      "source": [
        "print(glove_vectors.vectors.shape)\n",
        "print('Primeiras 20 palavras e seus índices:', list(glove_vectors.stoi.items())[:20])"
      ],
      "execution_count": null,
      "outputs": [
        {
          "output_type": "stream",
          "name": "stdout",
          "text": [
            "torch.Size([400000, 300])\n",
            "Primeiras 20 palavras e seus índices: [('the', 0), (',', 1), ('.', 2), ('of', 3), ('to', 4), ('and', 5), ('in', 6), ('a', 7), ('\"', 8), (\"'s\", 9), ('for', 10), ('-', 11), ('that', 12), ('on', 13), ('is', 14), ('was', 15), ('said', 16), ('with', 17), ('he', 18), ('as', 19)]\n"
          ]
        }
      ]
    },
    {
      "cell_type": "code",
      "metadata": {
        "id": "1ySaZBHxTLFa",
        "colab": {
          "base_uri": "https://localhost:8080/"
        },
        "outputId": "9dda0081-1bd9-40c9-aef4-bfab65ebc13b"
      },
      "source": [
        "vocab = glove_vectors.stoi\n",
        "vocab['<UNK>'] = params['vocabulary_size'] # The last row is for the unknown token.\n",
        "\n",
        "# We create a random vector for the unknown token\n",
        "unk_vector = torch.FloatTensor(1, glove_vectors.vectors.shape[1]).uniform_(-0.5, 0.5)\n",
        "\n",
        "# We create a vector of zeros for the pad token\n",
        "pad_vector = torch.zeros(1, glove_vectors.vectors.shape[1])\n",
        "\n",
        "# And add them to the embeddings matrix.\n",
        "embeddings = torch.cat((glove_vectors.vectors, unk_vector, pad_vector), dim=0)\n",
        "\n",
        "print(f'Total de palavras: {len(vocab)}')\n",
        "print(f'embeddings.shape: {embeddings.shape}')"
      ],
      "execution_count": null,
      "outputs": [
        {
          "output_type": "stream",
          "name": "stdout",
          "text": [
            "Total de palavras: 400001\n",
            "embeddings.shape: torch.Size([400002, 300])\n"
          ]
        }
      ]
    },
    {
      "cell_type": "markdown",
      "metadata": {
        "id": "XLlaPgP0Z_D4"
      },
      "source": [
        "# Definindo o tokenizador"
      ]
    },
    {
      "cell_type": "code",
      "metadata": {
        "id": "YIpp1C_qZ-QX"
      },
      "source": [
        "import collections\n",
        "import re\n",
        "\n",
        "\n",
        "def tokenize(text):\n",
        "    return [token.lower() for token in re.compile('\\w+').findall(text)]\n",
        "\n",
        "\n",
        "def to_token_ids(text, vocab, max_length, padding_idx):\n",
        "    tokens = tokenize(text)[:max_length]  # Truncating.\n",
        "    token_ids = []\n",
        "    for token in tokens:\n",
        "        # We use the id of the \"<UNK>\" token if we don't find it in the vocabulary.\n",
        "        token_id = vocab.get(token, vocab['<UNK>'])\n",
        "        token_ids.append(token_id)\n",
        "\n",
        "    # Adding PAD tokens, if necessary.\n",
        "    token_ids += [padding_idx] * max(0, max_length - len(token_ids))\n",
        "    return token_ids"
      ],
      "execution_count": null,
      "outputs": []
    },
    {
      "cell_type": "markdown",
      "metadata": {
        "id": "7_6pddDHEM_r"
      },
      "source": [
        "## Definindo camada atencional"
      ]
    },
    {
      "cell_type": "code",
      "metadata": {
        "id": "oLReRSuDEPLL"
      },
      "source": [
        "# É recomendado reiniciar as seeds antes de inicializar o modelo, pois assim\n",
        "# garantimos que os pesos vao ser sempre os mesmos.\n",
        "set_seeds()\n",
        "\n",
        "class SelfAttentionLayer(torch.nn.Module):\n",
        "\n",
        "    def __init__(self, embeddings, padding_idx, n_heads, dim, max_length):\n",
        "        super().__init__()\n",
        "        # n_heads: H\n",
        "        # dim: D\n",
        "        # max_lenght: L\n",
        "        # vocab_lenght: V\n",
        "        self.n_heads = n_heads\n",
        "        self.dim = dim\n",
        "        self.max_length = max_length\n",
        "        self.vocab_lenght = embeddings.shape[0]\n",
        "        self.padding_idx = padding_idx\n",
        "        self.dim_head = self.dim // self.n_heads # D / H\n",
        "        self.embedding_layer = torch.nn.Embedding.from_pretrained(embeddings, padding_idx = padding_idx) # (V, D) \n",
        "        self.positional_embeddings = torch.nn.Linear(self.dim, self.max_length, bias=False) # (D, L)\n",
        "        self.W_q = torch.nn.Linear(self.dim, self.dim, bias=False) # (D, D)\n",
        "        self.W_k = torch.nn.Linear(self.dim, self.dim, bias=False)\n",
        "        self.W_v = torch.nn.Linear(self.dim, self.dim, bias=False)\n",
        "        self.W_o = torch.nn.Linear(self.dim, self.dim, bias=False)\n",
        "        self.layer_norm1  = torch.nn.LayerNorm(self.dim, eps=1e-6)\n",
        "        self.feed_forward = torch.nn.Sequential(\n",
        "            torch.nn.Linear(self.dim, self.dim),  \n",
        "            torch.nn.ReLU(),\n",
        "            torch.nn.Linear(self.dim, self.dim)\n",
        "        )\n",
        "        self.layer_norm2  = torch.nn.LayerNorm(self.dim, eps=1e-6)\n",
        "\n",
        "    def multihead_self_attention(self, Q, K, V, padMask):        \n",
        "        qKt = torch.matmul(Q, K.transpose(-1,-2)) # Q * K\n",
        "        padMaskExp = padMask[:, None, None, :].expand_as(qKt)\n",
        "        qKt.masked_fill_(~padMaskExp, float('-inf'))\n",
        "        qKt_dk = qKt / np.sqrt(self.dim_head) \n",
        "        soft_QKt_dk = F.softmax(qKt_dk, dim=-1)\n",
        "        attention = torch.matmul(soft_QKt_dk, V)\n",
        "        return attention\n",
        "\n",
        "    def forward(self, x):\n",
        "        padMask  = ~(x == self.padding_idx)  # pad: False\n",
        "        x_size = x.shape[0]\n",
        "        x_embeddings = self.embedding_layer(x) # (B, L, D)\n",
        "        x_embeddings = x_embeddings + self.positional_embeddings.weight\n",
        "        residual = x_embeddings\n",
        "\n",
        "        fQ = self.W_q(x_embeddings).reshape(x_size, self.max_length, self.n_heads, self.dim_head) # (B, L, H, D/H)\n",
        "        fK = self.W_k(x_embeddings).reshape(x_size, self.max_length, self.n_heads, self.dim_head)\n",
        "        fV = self.W_v(x_embeddings).reshape(x_size, self.max_length, self.n_heads, self.dim_head)\n",
        "\n",
        "        # (B, L, H, D/H) -> (B, H, L, D/H)\n",
        "        fQ_transposed = fQ.transpose(1, 2)\n",
        "        fK_transposed = fK.transpose(1, 2)\n",
        "        fV_transposed = fV.transpose(1, 2)\n",
        "\n",
        "        attention = self.multihead_self_attention(fQ_transposed, fK_transposed, fV_transposed, padMask)\n",
        "        att_transposed = attention.transpose(1, 2).contiguous()                   # (B, L, H, D/H)\n",
        "        att_reshaped = att_transposed.reshape(x_size, self.max_length, self.dim) # (B, L, D) \n",
        "        att_output = self.W_o(att_reshaped)                                  \n",
        "        att_output += residual\n",
        "        att_norm1 = self.layer_norm1(att_output)\n",
        "        residual = att_norm1\n",
        "        att_ff = self.feed_forward(att_norm1)\n",
        "        att_ff += residual\n",
        "        att_norm2 = self.layer_norm2(att_ff)\n",
        "        att_mean = att_norm2 * padMask.unsqueeze(-1)      \n",
        "        mean_embeddings = att_mean.sum(dim=1) / padMask.count_nonzero(-1).unsqueeze(1)  \n",
        "        return mean_embeddings"
      ],
      "execution_count": null,
      "outputs": []
    },
    {
      "cell_type": "markdown",
      "metadata": {
        "id": "MSbNNLzjya7z"
      },
      "source": [
        "## Testando a implementação com embeddings \"falsos\""
      ]
    },
    {
      "cell_type": "code",
      "metadata": {
        "colab": {
          "base_uri": "https://localhost:8080/"
        },
        "id": "7K_LJm2lygau",
        "outputId": "0d813631-1c29-4eb2-ca72-f51b664aa37a"
      },
      "source": [
        "fake_vocab = {\n",
        "    'a': 0,\n",
        "    'b': 1,\n",
        "    'c': 2,\n",
        "    '<UNK>': 3 \n",
        "}\n",
        "\n",
        "fake_embeddings = torch.arange(0, 2 * len(fake_vocab)).reshape(len(fake_vocab), 2).float()\n",
        "pad_vector = torch.zeros(1, 2)\n",
        "fake_embeddings = torch.cat((fake_embeddings, pad_vector), dim=0)\n",
        "\n",
        "fake_examples = [\n",
        "    'a', # Testing PAD\n",
        "    'a b',\n",
        "    'a c b', # Testing truncation\n",
        "    'a z', # Testing <UNK>\n",
        "    ]\n",
        "\n",
        "print(f'Total de palavras: {len(fake_vocab)}')\n",
        "print(f'embeddings.shape: {fake_embeddings.shape}')"
      ],
      "execution_count": null,
      "outputs": [
        {
          "output_type": "stream",
          "name": "stdout",
          "text": [
            "Total de palavras: 4\n",
            "embeddings.shape: torch.Size([5, 2])\n"
          ]
        }
      ]
    },
    {
      "cell_type": "code",
      "metadata": {
        "colab": {
          "base_uri": "https://localhost:8080/"
        },
        "id": "s5lhQ2YY4rz6",
        "outputId": "6cb3cac2-0537-4632-db03-4750bad15b45"
      },
      "source": [
        "fake_embeddings"
      ],
      "execution_count": null,
      "outputs": [
        {
          "output_type": "execute_result",
          "data": {
            "text/plain": [
              "tensor([[0., 1.],\n",
              "        [2., 3.],\n",
              "        [4., 5.],\n",
              "        [6., 7.],\n",
              "        [0., 0.]])"
            ]
          },
          "metadata": {},
          "execution_count": 13
        }
      ]
    },
    {
      "cell_type": "code",
      "metadata": {
        "id": "0IHiV6nRzg4q"
      },
      "source": [
        "self_attention_layer = SelfAttentionLayer(\n",
        "    embeddings=fake_embeddings,\n",
        "    padding_idx=4,\n",
        "    dim=2,\n",
        "    n_heads=2,\n",
        "    max_length=2)\n",
        "\n",
        "batch_token_ids = []\n",
        "for example in fake_examples:\n",
        "    token_ids = to_token_ids(\n",
        "        text=example,\n",
        "        vocab=fake_vocab,\n",
        "        max_length=2,\n",
        "        padding_idx=4)\n",
        "    batch_token_ids.append(token_ids)\n",
        "\n",
        "batch_token_ids = torch.LongTensor(batch_token_ids)\n",
        "my_output = self_attention_layer(batch_token_ids)"
      ],
      "execution_count": null,
      "outputs": []
    },
    {
      "cell_type": "code",
      "metadata": {
        "id": "gFF0AkR74Drr"
      },
      "source": [
        "torch.set_printoptions(precision=10)"
      ],
      "execution_count": null,
      "outputs": []
    },
    {
      "cell_type": "code",
      "metadata": {
        "colab": {
          "base_uri": "https://localhost:8080/"
        },
        "id": "2RMkzafh1nkk",
        "outputId": "8bcb562e-361a-4d3e-bf45-a5dd7bd208f0"
      },
      "source": [
        "my_output"
      ],
      "execution_count": null,
      "outputs": [
        {
          "output_type": "execute_result",
          "data": {
            "text/plain": [
              "tensor([[-0.9999975562,  0.9999975562],\n",
              "        [-0.9999975562,  0.9999976158],\n",
              "        [-0.9999975562,  0.9999974966],\n",
              "        [-0.9999974966,  0.9999974966]], grad_fn=<DivBackward0>)"
            ]
          },
          "metadata": {},
          "execution_count": 16
        }
      ]
    },
    {
      "cell_type": "code",
      "metadata": {
        "id": "zJsMGZ911l67"
      },
      "source": [
        "target_output = torch.FloatTensor([\n",
        "    [-0.9999975562,  0.9999975562],\n",
        "    [-0.9999975562,  0.9999976158],\n",
        "    [-0.9999975562,  0.9999974966],\n",
        "    [-0.9999974966,  0.9999974966]])"
      ],
      "execution_count": null,
      "outputs": []
    },
    {
      "cell_type": "code",
      "metadata": {
        "id": "IR_sjMsm1kK1"
      },
      "source": [
        "assert torch.allclose(my_output, target_output, atol=1e-8)"
      ],
      "execution_count": null,
      "outputs": []
    },
    {
      "cell_type": "markdown",
      "metadata": {
        "id": "XS6p45y4It01"
      },
      "source": [
        "## Testando a implementação com 8 exemplos do dataset do IMDB"
      ]
    },
    {
      "cell_type": "code",
      "metadata": {
        "id": "dm_WeJi-EciW"
      },
      "source": [
        "examples = [\n",
        "    \"THE TEMP (1993) didn't do much theatrical business, but here's the direct-to-video rip-off you didn't want, anyway! Ellen Bradford (Mel Harris) is the new woman at Millennium Investments, a high scale brokerage firm, who starts getting helpful hints from wide-eyed secretary Deidre (Sheila Kelley). Deidre turns out to be an ambitious daddy's girl who will stop at nothing to move up the corporate ladder, including screwing a top broker she can't stand and murdering anyone who gets on her bad side. She digs up skeletons in Ellen's closet, tries to cause problems with her husband (Barry Bostwick), kills while making it look like she is responsible, kidnaps her daughter and tries to get her to embezzle money from the company.<br /><br />Harris and Kelley deliver competent performances, the supporting cast is alright and it's reasonably well put-together, but that doesn't fully compensate for a script that travels down a well-worn path and offers few surprises.\",\n",
        "    \"Sondra Locke stinks in this film, but then she was an awful 'actress' anyway. Unfortunately, she drags everyone else (including then =real life boyfriend Clint Eastwood down the drain with her. But what was Clint Eastwood thinking when he agreed to star in this one? One read of the script should have told him that this one was going to be a real snorer. It's an exceptionally weak story, basically no story or plot at all. Add in bored, poor acting, even from the normally good Eastwood. There's absolutely no action except a couple arguments and as far as I was concerned, this film ranks up at the top of the heap of natural sleep enhancers. Wow! Could a film BE any more boring? I think watching paint dry or the grass grow might be more fun. A real stinker. Don't bother with this one.\",\n",
        "    \"Judy Davis shows us here why she is one of Australia's most respected and loved actors - her portrayal of a lonely, directionless nomad is first-rate. A teenaged Claudia Karvan also gives us a glimpse of what would make her one of this country's most popular actors in years to come, with future roles in THE BIG STEAL, THE HEARTBREAK KID, DATING THE ENEMY, RISK and the acclaimed TV series THE SECRET LIFE OF US. (Incidentally, Karvan, as a child, was a young girl whose toy Panda was stolen outside a chemist's shop in the 1983 drama GOING DOWN with Tracey Mann.) If this films comes your way, make sure you see it!! Rating: 79/100. See also: HOTEL SORRENTO, RADIANCE, VACANT POSSESSION, LANTANA.\",\n",
        "    'New York playwright Michael Caine (as Sidney Bruhl) is 46-years-old and fading fast; as the film opens, Mr. Caine\\'s latest play flops on Broadway. TV reviewers poke fun at Caine, and he gets drunk. Passing out on the Long Island Railroad lands Caine in Montauk, instead of his residence in East Hampton. Finally arriving home, Caine is comforted by tightly-attired wife Dyan Cannon (as Myra), an unfortunately high-strung heart patient. There, Caine and Ms. Cannon discuss a new play called \"Deathtrap\", written by hunky young Christopher Reeve (as Clifford \"Cliff\" Anderson), one of Caine\\'s former students. The couple believe Mr. Reeve\\'s \"Deathtrap\" is the hit needed to revive Caine\\'s career.<br /><br />\"The Trap Is Set\\x85 For A Wickedly Funny Who\\'ll-Do-It.\" <br /><br />Directed by Sidney Lumet, Ira Levin\\'s long-running Broadway hit doesn\\'t stray too far from its stage origin. The cast is enjoyable and the story\\'s twists are still engrossing. One thing that did not work (for me) was the curtain call ending; surely, it played better on stage. \"Deathtrap\" is a fun film to watch again; the performances are dead on - but, in hindsight, the greeting Reeve gives Caine at the East Hampton train station should have been simplified to a smiling \"Hello.\" The location isn\\'t really East Hampton, but the windmill and pond look similar. And, the much ballyhooed love scene is shockingly tepid. But, the play was so good, \"even a gifted director couldn\\'t ruin it.\" And, Mr. Lumet doesn\\'t disappoint.<br /><br />******** Deathtrap (3/19/82) Sidney Lumet ~ Michael Caine, Christopher Reeve, Dyan Cannon, Irene Worth',\n",
        "    'Students often ask me why I choose this version of Othello. Shakespeare\\'s text is strongly truncated and the film contains material which earned it an \"R\" rating.<br /><br />I have several reasons for using this production: First, I had not seen a depiction of the Moor that actually made me sympathetic to Othello until I saw Fishburne play him. I saw James Earl Jones and Christopher Plummer play Othello and Iago on Broadway, and it was wonderful. Plummer\\'s energy was especially noticeable. But in spite of Jone\\'s incredible presence both physically and vocally, the character he played just seemed too passive to illicit from me a complete emotional purgation in the Aristotelian sense. Jones, in fact, affirmed what I felt when in an interview he noted that he had played Othello as passive--seeing Iago as basically doing him over. Unfortunately this sapped my grief for the character destruction. Thus, I felt sympathy for Jone\\'s Moor but not the horror over his corruption by an evil man. In contrast, Fishburne\\'s Othello is a strong and vigorous figure familiar with taking action. Thus, Iago\\'s temptation to actively deal with what is presented to Othello as his wife\\'s unfaithfulness is a perversion of the general\\'s positive quality to be active not passive.1 The horror of the story is that this good quality in Othello becomes perverted. Fishburne\\'s depiction is therefore classically tragic.<br /><br />Second, Fishburne is the first black actor to play Othello in a film. Both Orsen Wells and Anthony Hopkins did fine film versions, but they were white men in black face.2 Why is this important? Why should a Black actor be the Black man on the stage?3 Certainly in Shakespeare\\'s day they used black face just as they used boys to make girls. Perhaps then, the reason is the same. Female actors bring a special quality to female roles on the Shakespearian stage because they understand best what Shakespeare\\'s genius was trying to present. A gifted black actor should play the moor because his experience in a white dominated culture is vital to understanding what Shakespeare\\'s genius recognized: the pain of being marginalized because of race. An important theme in Othello is isolation caused by racism. Although it is a mistake to insert American racism into a Shakespearian play, there can be little doubt that racism is still working among the characters. Many, including Desdimona\\'s father, think that a union between a Venetian white Christian woman and a North African black Christian man is UNNATURAL.<br /><br />Third, Shakespeare was never G rated. He never has been. His stage productions were always typified by violence and strong language. But Shakespeare\\'s genius uses these elements not as sensationialism but for artistic honesty.',\n",
        "    'Roeg has done some great movies, but this a turkey. It has a feel of a play written by an untalented high-school student for his class assignment. The set decoration is appealing in a somewhat surrealistic way, but the actual story is insufferable hokum.',\n",
        "    \"<br /><br />What is left of Planet Earth is populated by a few poor and starving rag-tag survivors. They must eat bugs and insects, or whatever, after a poison war, or something, has nearly wiped out all human civilization. In these dark times, one of the few people on Earth still able to live in comfort, we will call him the All Knowing Big Boss, has a great quest to prevent some secret spore seeds from being released into the air. It seems that the All Knowing Big Boss is the last person on Earth that knows that these spores even exist. The spores are located far away from any living soul, and they are highly protected by many layers of deadly defense systems. <br /><br />The All Knowing Big Boss wants the secret spores to remain in their secret protected containers. So, he makes a plan to send in a macho action team to remove the spore containers from all of the protective systems and secret location. Sending people to the location of secret spores makes them no longer a secret. Sending people to disable all of the protective systems makes it possible for the spores to be easily released into the air. How about letting sleeping dogs lie?! <br /><br />The one pleasant feature of ENCRYPT is the radiant and elegant Vivian Wu. As the unremarkable macho action team members drop off with mechanically paced predictable timing, engaging Vivian Wu's charm makes acceptable the plot idea of her old employer wanting her so much. She is an object of love, an object of desire -- a very believable concept!<br /><br />Fans of Vivian Wu may want to check out an outstanding B-movie she is in from a couple years back called DINNER RUSH. DINNER RUSH is highly recommended. ENCRYPT is not.\",\n",
        "    \"So the other night I decided to watch Tales from the Hollywood Hills: Natica Jackson. Or Power, Passion, Murder as it is called in Holland. When I bought the film I noticed that Michelle Pfeiffer was starring in it and I thought that had to say something about the quality. Unfortunately, it didn't.<br /><br />1) The plot of the film is really confusing. There are two story lines running simultaneously during the film. Only they have nothing in common. Throughout the entire movie I was waiting for the moment these two story lines would come together so the plot would be clear to me. But it still hasn't.<br /><br />2) The title of the film says the film will be about Natica Jackson. Well it is, sometimes. Like said the film covers two different stories and the part about Natica Jackson is the shortest. So another title for this movie would not be a wrong choice.<br /><br />To conclude my story, I really recommend that you leave this movie where it belongs, on the shelf in the store on a place nobody can see it. By doing this you won't waste 90 minutes of your life, as I did.\"         \n",
        "]"
      ],
      "execution_count": null,
      "outputs": []
    },
    {
      "cell_type": "code",
      "metadata": {
        "id": "glpuB87bI1_X"
      },
      "source": [
        "self_attention_layer = SelfAttentionLayer(\n",
        "    embeddings=embeddings,\n",
        "    padding_idx=params['padding_idx'],\n",
        "    dim=params['dim'],\n",
        "    n_heads=params['n_heads'],\n",
        "    max_length=params['max_length'])\n",
        "\n",
        "batch_token_ids = []\n",
        "for example in examples:\n",
        "    token_ids = to_token_ids(\n",
        "        text=example,\n",
        "        vocab=vocab,\n",
        "        max_length=params['max_length'],\n",
        "        padding_idx=params['padding_idx'])\n",
        "    batch_token_ids.append(token_ids)\n",
        "\n",
        "batch_token_ids = torch.LongTensor(batch_token_ids)\n",
        "my_output = self_attention_layer(batch_token_ids)"
      ],
      "execution_count": null,
      "outputs": []
    },
    {
      "cell_type": "markdown",
      "metadata": {
        "id": "N0VUv1A_r5oO"
      },
      "source": [
        "Fazemos o download do tensor esperado e o comparamos com nossa saída"
      ]
    },
    {
      "cell_type": "code",
      "metadata": {
        "colab": {
          "base_uri": "https://localhost:8080/"
        },
        "id": "THva0R6h6A_e",
        "outputId": "24805d4d-89a4-4938-8da6-42b57983e586"
      },
      "source": [
        "!wget https://storage.googleapis.com/neuralresearcher_data/unicamp/ia376e_2021s2/aula8/target_tensor.pt"
      ],
      "execution_count": null,
      "outputs": [
        {
          "output_type": "stream",
          "name": "stdout",
          "text": [
            "--2021-10-06 22:39:45--  https://storage.googleapis.com/neuralresearcher_data/unicamp/ia376e_2021s2/aula8/target_tensor.pt\n",
            "Resolving storage.googleapis.com (storage.googleapis.com)... 142.250.159.128, 74.125.70.128, 74.125.69.128, ...\n",
            "Connecting to storage.googleapis.com (storage.googleapis.com)|142.250.159.128|:443... connected.\n",
            "HTTP request sent, awaiting response... 200 OK\n",
            "Length: 10347 (10K) [application/octet-stream]\n",
            "Saving to: ‘target_tensor.pt.1’\n",
            "\n",
            "\rtarget_tensor.pt.1    0%[                    ]       0  --.-KB/s               \rtarget_tensor.pt.1  100%[===================>]  10.10K  --.-KB/s    in 0s      \n",
            "\n",
            "2021-10-06 22:39:45 (84.7 MB/s) - ‘target_tensor.pt.1’ saved [10347/10347]\n",
            "\n"
          ]
        }
      ]
    },
    {
      "cell_type": "code",
      "metadata": {
        "id": "p2C1ZvxoAkCN"
      },
      "source": [
        "target_output = torch.load('target_tensor.pt')"
      ],
      "execution_count": null,
      "outputs": []
    },
    {
      "cell_type": "code",
      "metadata": {
        "id": "1RNPTGnCLGBl"
      },
      "source": [
        "assert torch.allclose(my_output, target_output, atol=1e-6)"
      ],
      "execution_count": null,
      "outputs": []
    },
    {
      "cell_type": "code",
      "metadata": {
        "colab": {
          "base_uri": "https://localhost:8080/"
        },
        "id": "38HW4e_WS6LE",
        "outputId": "02d00b9b-71d1-45f2-f5ee-df78ff08f892"
      },
      "source": [
        "import torch.nn as nn\n",
        "from torch.utils.data import Dataset, DataLoader\n",
        "\n",
        "if torch.cuda.is_available(): \n",
        "   dev = \"cuda:0\"\n",
        "   print(torch. cuda. get_device_name(dev))\n",
        "else: \n",
        "   dev = \"cpu\" \n",
        "print(dev)\n",
        "device = torch.device(dev)"
      ],
      "execution_count": null,
      "outputs": [
        {
          "output_type": "stream",
          "name": "stdout",
          "text": [
            "Tesla K80\n",
            "cuda:0\n"
          ]
        }
      ]
    },
    {
      "cell_type": "markdown",
      "metadata": {
        "id": "SmKayz7fYA2c"
      },
      "source": [
        "# Dataset"
      ]
    },
    {
      "cell_type": "code",
      "metadata": {
        "id": "TBZkWWkmaKZ2"
      },
      "source": [
        "class Ex8_ds(torch.utils.data.Dataset):\n",
        "    def __init__(self, x, y, vocabulary, max_length, transformer, padding_idx):\n",
        "        self.x = x\n",
        "        self.y = y\n",
        "        self.vocabulary = vocabulary\n",
        "        self.max_length = max_length\n",
        "        self.transformer = transformer\n",
        "        self.padding_idx = padding_idx\n",
        "\n",
        "    def __len__(self):\n",
        "        return len(self.x)\n",
        "\n",
        "    def __getitem__(self, index):\n",
        "        x = torch.tensor(self.transformer(self.x[index], self.vocabulary, self.max_length, self.padding_idx))\n",
        "        y = torch.tensor(self.y[index]).float()\n",
        "        return x, y"
      ],
      "execution_count": null,
      "outputs": []
    },
    {
      "cell_type": "markdown",
      "metadata": {
        "id": "cO3YDqyTTAgZ"
      },
      "source": [
        "# Definindo o Modelo"
      ]
    },
    {
      "cell_type": "code",
      "metadata": {
        "id": "kTxAB2AxTCke"
      },
      "source": [
        "set_seeds()"
      ],
      "execution_count": null,
      "outputs": []
    },
    {
      "cell_type": "code",
      "metadata": {
        "id": "rlUD0vldTGlx"
      },
      "source": [
        "class Ex8_model(torch.nn.Module):\n",
        "    def __init__(self, hidden, embeddings, padding_idx, dim, n_heads, max_lenght):\n",
        "        super(Ex8_model, self).__init__()\n",
        "        self.attentional = SelfAttentionLayer(embeddings=embeddings, padding_idx=padding_idx, dim=dim, n_heads=n_heads, max_length=max_lenght)\n",
        "        self.linear = nn.Sequential(\n",
        "            nn.Linear(embeddings.shape[1], hidden),\n",
        "            nn.ReLU(),\n",
        "            nn.Linear(hidden, 1),\n",
        "            nn.Sigmoid()\n",
        "        )\n",
        "          \n",
        "    def forward(self, x):\n",
        "        att_embeddings = self.attentional(x)\n",
        "        output = self.linear(att_embeddings)\n",
        "        return output.squeeze()"
      ],
      "execution_count": null,
      "outputs": []
    },
    {
      "cell_type": "code",
      "metadata": {
        "id": "ThPlU9vec95U"
      },
      "source": [
        ""
      ],
      "execution_count": null,
      "outputs": []
    },
    {
      "cell_type": "code",
      "metadata": {
        "colab": {
          "base_uri": "https://localhost:8080/"
        },
        "id": "qCVwbNHmdGgu",
        "outputId": "632ab580-a424-4000-a3ac-a48dcc316d5a"
      },
      "source": [
        "! pip install neptune-client"
      ],
      "execution_count": null,
      "outputs": [
        {
          "output_type": "stream",
          "name": "stdout",
          "text": [
            "Requirement already satisfied: neptune-client in /usr/local/lib/python3.7/dist-packages (0.12.0)\n",
            "Requirement already satisfied: future>=0.17.1 in /usr/local/lib/python3.7/dist-packages (from neptune-client) (0.18.2)\n",
            "Requirement already satisfied: boto3>=1.16.0 in /usr/local/lib/python3.7/dist-packages (from neptune-client) (1.18.56)\n",
            "Requirement already satisfied: urllib3 in /usr/local/lib/python3.7/dist-packages (from neptune-client) (1.25.11)\n",
            "Requirement already satisfied: oauthlib>=2.1.0 in /usr/local/lib/python3.7/dist-packages (from neptune-client) (3.1.1)\n",
            "Requirement already satisfied: pandas in /usr/local/lib/python3.7/dist-packages (from neptune-client) (1.1.5)\n",
            "Requirement already satisfied: Pillow>=1.1.6 in /usr/local/lib/python3.7/dist-packages (from neptune-client) (7.1.2)\n",
            "Requirement already satisfied: six>=1.12.0 in /usr/local/lib/python3.7/dist-packages (from neptune-client) (1.15.0)\n",
            "Requirement already satisfied: requests>=2.20.0 in /usr/local/lib/python3.7/dist-packages (from neptune-client) (2.23.0)\n",
            "Requirement already satisfied: GitPython>=2.0.8 in /usr/local/lib/python3.7/dist-packages (from neptune-client) (3.1.24)\n",
            "Requirement already satisfied: jsonschema<4 in /usr/local/lib/python3.7/dist-packages (from neptune-client) (2.6.0)\n",
            "Requirement already satisfied: bravado in /usr/local/lib/python3.7/dist-packages (from neptune-client) (11.0.3)\n",
            "Requirement already satisfied: psutil in /usr/local/lib/python3.7/dist-packages (from neptune-client) (5.4.8)\n",
            "Requirement already satisfied: click>=7.0 in /usr/local/lib/python3.7/dist-packages (from neptune-client) (7.1.2)\n",
            "Requirement already satisfied: websocket-client!=1.0.0,>=0.35.0 in /usr/local/lib/python3.7/dist-packages (from neptune-client) (1.2.1)\n",
            "Requirement already satisfied: packaging in /usr/local/lib/python3.7/dist-packages (from neptune-client) (21.0)\n",
            "Requirement already satisfied: requests-oauthlib>=1.0.0 in /usr/local/lib/python3.7/dist-packages (from neptune-client) (1.3.0)\n",
            "Requirement already satisfied: PyJWT in /usr/local/lib/python3.7/dist-packages (from neptune-client) (2.1.0)\n",
            "Requirement already satisfied: s3transfer<0.6.0,>=0.5.0 in /usr/local/lib/python3.7/dist-packages (from boto3>=1.16.0->neptune-client) (0.5.0)\n",
            "Requirement already satisfied: botocore<1.22.0,>=1.21.56 in /usr/local/lib/python3.7/dist-packages (from boto3>=1.16.0->neptune-client) (1.21.56)\n",
            "Requirement already satisfied: jmespath<1.0.0,>=0.7.1 in /usr/local/lib/python3.7/dist-packages (from boto3>=1.16.0->neptune-client) (0.10.0)\n",
            "Requirement already satisfied: python-dateutil<3.0.0,>=2.1 in /usr/local/lib/python3.7/dist-packages (from botocore<1.22.0,>=1.21.56->boto3>=1.16.0->neptune-client) (2.8.2)\n",
            "Requirement already satisfied: gitdb<5,>=4.0.1 in /usr/local/lib/python3.7/dist-packages (from GitPython>=2.0.8->neptune-client) (4.0.7)\n",
            "Requirement already satisfied: typing-extensions>=3.7.4.3 in /usr/local/lib/python3.7/dist-packages (from GitPython>=2.0.8->neptune-client) (3.7.4.3)\n",
            "Requirement already satisfied: smmap<5,>=3.0.1 in /usr/local/lib/python3.7/dist-packages (from gitdb<5,>=4.0.1->GitPython>=2.0.8->neptune-client) (4.0.0)\n",
            "Requirement already satisfied: certifi>=2017.4.17 in /usr/local/lib/python3.7/dist-packages (from requests>=2.20.0->neptune-client) (2021.5.30)\n",
            "Requirement already satisfied: idna<3,>=2.5 in /usr/local/lib/python3.7/dist-packages (from requests>=2.20.0->neptune-client) (2.10)\n",
            "Requirement already satisfied: chardet<4,>=3.0.2 in /usr/local/lib/python3.7/dist-packages (from requests>=2.20.0->neptune-client) (3.0.4)\n",
            "Requirement already satisfied: pyyaml in /usr/local/lib/python3.7/dist-packages (from bravado->neptune-client) (3.13)\n",
            "Requirement already satisfied: monotonic in /usr/local/lib/python3.7/dist-packages (from bravado->neptune-client) (1.6)\n",
            "Requirement already satisfied: bravado-core>=5.16.1 in /usr/local/lib/python3.7/dist-packages (from bravado->neptune-client) (5.17.0)\n",
            "Requirement already satisfied: msgpack in /usr/local/lib/python3.7/dist-packages (from bravado->neptune-client) (1.0.2)\n",
            "Requirement already satisfied: simplejson in /usr/local/lib/python3.7/dist-packages (from bravado->neptune-client) (3.17.5)\n",
            "Requirement already satisfied: jsonref in /usr/local/lib/python3.7/dist-packages (from bravado-core>=5.16.1->bravado->neptune-client) (0.2)\n",
            "Requirement already satisfied: pytz in /usr/local/lib/python3.7/dist-packages (from bravado-core>=5.16.1->bravado->neptune-client) (2018.9)\n",
            "Requirement already satisfied: swagger-spec-validator>=2.0.1 in /usr/local/lib/python3.7/dist-packages (from bravado-core>=5.16.1->bravado->neptune-client) (2.7.3)\n",
            "Requirement already satisfied: strict-rfc3339 in /usr/local/lib/python3.7/dist-packages (from jsonschema<4->neptune-client) (0.7)\n",
            "Requirement already satisfied: webcolors in /usr/local/lib/python3.7/dist-packages (from jsonschema<4->neptune-client) (1.11.1)\n",
            "Requirement already satisfied: rfc3987 in /usr/local/lib/python3.7/dist-packages (from jsonschema<4->neptune-client) (1.3.8)\n",
            "Requirement already satisfied: pyparsing>=2.0.2 in /usr/local/lib/python3.7/dist-packages (from packaging->neptune-client) (2.4.7)\n",
            "Requirement already satisfied: numpy>=1.15.4 in /usr/local/lib/python3.7/dist-packages (from pandas->neptune-client) (1.19.5)\n"
          ]
        }
      ]
    },
    {
      "cell_type": "code",
      "metadata": {
        "colab": {
          "base_uri": "https://localhost:8080/"
        },
        "id": "nhBamaaCdJW0",
        "outputId": "023d3633-e27e-4667-94cd-eb121b51ed8f"
      },
      "source": [
        "import neptune.new as neptune\n",
        "\n",
        "run = neptune.init(project='leolellisr/nlp-imbd-large', api_token='eyJhcGlfYWRkcmVzcyI6Imh0dHBzOi8vYXBwLm5lcHR1bmUuYWkiLCJhcGlfdXJsIjoiaHR0cHM6Ly9hcHAubmVwdHVuZS5haSIsImFwaV9rZXkiOiI1NjY1YmJkZi1hYmM5LTQ3M2QtOGU1ZC1iZTFlNWY4NjE1NDQifQ==')"
      ],
      "execution_count": null,
      "outputs": [
        {
          "output_type": "stream",
          "name": "stdout",
          "text": [
            "https://app.neptune.ai/leolellisr/nlp-imbd-large/e/NIMBL-52\n",
            "Remember to stop your run once you’ve finished logging your metadata (https://docs.neptune.ai/api-reference/run#stop). It will be stopped automatically only when the notebook kernel/interactive console is terminated.\n"
          ]
        }
      ]
    },
    {
      "cell_type": "code",
      "metadata": {
        "id": "eCdcXmdGc4Mc"
      },
      "source": [
        ""
      ],
      "execution_count": null,
      "outputs": []
    },
    {
      "cell_type": "markdown",
      "metadata": {
        "id": "F67lPUwWc4z6"
      },
      "source": [
        "# Train Loop"
      ]
    },
    {
      "cell_type": "code",
      "metadata": {
        "id": "-IZV3nlRdVaA"
      },
      "source": [
        ""
      ],
      "execution_count": null,
      "outputs": []
    },
    {
      "cell_type": "code",
      "metadata": {
        "id": "2MEpGPlidWWD"
      },
      "source": [
        "def train_loop(dataloader_train, dataloader_val, hyperparameters, model):\n",
        "    min_val_loss = 10e9\n",
        "    best_model = 'best_model.pt'\n",
        "    criterion = nn.BCELoss()\n",
        "    # Gradient descent\n",
        "    optimizer = torch.optim.Adam(model.parameters(), lr=hyperparameters['learning_rate'])\n",
        "    best_epoch = 0\n",
        "\n",
        "    for epoch in range(hyperparameters['n_epochs']):\n",
        "      train_loss = 0\n",
        "      model.train()\n",
        "      for x_train, y_train in dataloader_train:\n",
        "            # transform to one dimmension\n",
        "        x_train = x_train.to(device)\n",
        "        y_train = y_train.to(device) \n",
        "        \n",
        "        outputs = model(x_train)\n",
        "\n",
        "            # batch loss\n",
        "        batch_loss = criterion(outputs, y_train)\n",
        "\n",
        "            # reset gradients, backpropagation, optimizer step and sum loss\n",
        "        optimizer.zero_grad()\n",
        "        batch_loss.backward()\n",
        "        optimizer.step()\n",
        "        train_loss += batch_loss.item()\n",
        "            #print(f'{hyperparameters[\"name\"]}_train/batch_loss: {batch_loss}')\n",
        "        run[f'{hyperparameters[\"mode\"]}_train/batch_loss'].log(batch_loss)\n",
        "\n",
        "      train_loss = train_loss / len(dataloader_train.dataset)\n",
        "        #print(f'Epoch {epoch} / {hyperparameters[\"name\"]} train loss: {train_loss}')\n",
        "      run[f'{hyperparameters[\"mode\"]}_train/train_loss'].log(train_loss) \n",
        "\n",
        "        # Validation (end of epoch).\n",
        "      total_loss = 0\n",
        "      total_acc = 0\n",
        "      model.eval()\n",
        "      with torch.no_grad():\n",
        "        for x_val, y_val in dataloader_val:\n",
        "          x_val = x_val.to(device)\n",
        "          y_val = y_val.to(device)\n",
        "\n",
        "                # predict\n",
        "          outputs = model(x_val)\n",
        "\n",
        "                # batch loss\n",
        "          batch_loss = criterion(outputs, y_val)\n",
        "          preds = outputs > 0.5\n",
        "          total_loss += batch_loss\n",
        "\n",
        "          batch_acc = (preds == y_val).sum()\n",
        "          total_acc += batch_acc\n",
        "      val_loss = total_loss / len(dataloader_val.dataset)\n",
        "      run[f'{hyperparameters[\"mode\"]}_val/val_loss'].log(val_loss)\n",
        "\n",
        "      val_acc = total_acc / len(dataloader_val.dataset)\n",
        "      run[f'{hyperparameters[\"mode\"]}_val/val_accuracy'].log(total_acc / len(dataloader_val.dataset))\n",
        "      \n",
        "      print(f'Model: {hyperparameters[\"mode\"]}, Epoch: {epoch+1}/{hyperparameters[\"n_epochs\"]} - train_loss: {train_loss} - val_loss: {val_loss} - acc: {total_acc / len(dataloader_val.dataset)*100} %')\n",
        "\n",
        "        # Save best model\n",
        "      if val_loss < min_val_loss:\n",
        "        torch.save(model.state_dict(), 'best_model.pt')\n",
        "        min_val_loss = val_loss\n",
        "        best_epoch = epoch\n",
        "        print(f'Model: {hyperparameters[\"mode\"]} - best model in epoch: {best_epoch+1}')"
      ],
      "execution_count": null,
      "outputs": []
    },
    {
      "cell_type": "code",
      "metadata": {
        "id": "xfqOMPvNdeCW"
      },
      "source": [
        "def predict(model, dataloader_test):\n",
        "    criterion = nn.BCELoss()\n",
        "\n",
        "    best_model = 'best_model.pt'\n",
        "    model.load_state_dict(torch.load(best_model))\n",
        "    model.eval()\n",
        "    model.to(device)\n",
        "    floss = 0\n",
        "    total_acc = 0\n",
        "    with torch.no_grad():\n",
        "      for x_t, y_t in dataloader_test:\n",
        "        x_t = x_t.to(device)\n",
        "        y_t = y_t.to(device)\n",
        "\n",
        "        outputs = model(x_t)\n",
        "        loss = criterion(outputs, y_t)\n",
        "        floss += loss\n",
        "        preds = outputs > 0.5\n",
        "\n",
        "        batch_acc = (preds == y_t).sum()\n",
        "        total_acc += batch_acc\n",
        "    \n",
        "      test_acc = total_acc / len(dataloader_test.dataset)    \n",
        "    return { \n",
        "        'loss':  floss / len(dataloader_test.dataset),\n",
        "        'acc': test_acc\n",
        "    }"
      ],
      "execution_count": null,
      "outputs": []
    },
    {
      "cell_type": "code",
      "metadata": {
        "id": "HARhEubUdgWI"
      },
      "source": [
        "# Transform list to dict\n",
        "x_train = {num: i for num, i in enumerate(x_train)}\n",
        "y_train = {num: i for num, i in enumerate(y_train)}\n",
        "x_valid = {num: i for num, i in enumerate(x_valid)}\n",
        "y_valid = {num: i for num, i in enumerate(y_valid)}\n",
        "x_test = {num: i for num, i in enumerate(x_test)}\n",
        "y_test = {num: i for num, i in enumerate(y_test)}"
      ],
      "execution_count": null,
      "outputs": []
    },
    {
      "cell_type": "code",
      "metadata": {
        "id": "NOhbHomZeE6R"
      },
      "source": [
        "set_seeds()"
      ],
      "execution_count": null,
      "outputs": []
    },
    {
      "cell_type": "code",
      "metadata": {
        "id": "s9vyLSkRdiD9"
      },
      "source": [
        "from torch.utils.data import DataLoader\n"
      ],
      "execution_count": null,
      "outputs": []
    },
    {
      "cell_type": "code",
      "metadata": {
        "colab": {
          "base_uri": "https://localhost:8080/"
        },
        "id": "2IZlz0fPeKoX",
        "outputId": "354821db-319f-44d0-9669-9923f99d4cf1"
      },
      "source": [
        "hyperparameters = { \"mode\": \"210930_Aula8\", \n",
        "          \"learning_rate\": 1e-4,\n",
        "          \"n_epochs\": 20,\n",
        "          \"batch_size\": 128,\n",
        "          \"hidden_size\": 1024\n",
        "          }\n",
        "model = Ex8_model(hyperparameters[\"hidden_size\"], embeddings,  params['padding_idx'], params['dim'], params['n_heads'], params['max_length'])\n",
        "model.to(device) \n",
        "print(model)"
      ],
      "execution_count": null,
      "outputs": [
        {
          "output_type": "stream",
          "name": "stdout",
          "text": [
            "Ex8_model(\n",
            "  (attentional): SelfAttentionLayer(\n",
            "    (embedding_layer): Embedding(400002, 300, padding_idx=400001)\n",
            "    (positional_embeddings): Linear(in_features=300, out_features=200, bias=False)\n",
            "    (W_q): Linear(in_features=300, out_features=300, bias=False)\n",
            "    (W_k): Linear(in_features=300, out_features=300, bias=False)\n",
            "    (W_v): Linear(in_features=300, out_features=300, bias=False)\n",
            "    (W_o): Linear(in_features=300, out_features=300, bias=False)\n",
            "    (layer_norm1): LayerNorm((300,), eps=1e-06, elementwise_affine=True)\n",
            "    (feed_forward): Sequential(\n",
            "      (0): Linear(in_features=300, out_features=300, bias=True)\n",
            "      (1): ReLU()\n",
            "      (2): Linear(in_features=300, out_features=300, bias=True)\n",
            "    )\n",
            "    (layer_norm2): LayerNorm((300,), eps=1e-06, elementwise_affine=True)\n",
            "  )\n",
            "  (linear): Sequential(\n",
            "    (0): Linear(in_features=300, out_features=1024, bias=True)\n",
            "    (1): ReLU()\n",
            "    (2): Linear(in_features=1024, out_features=1, bias=True)\n",
            "    (3): Sigmoid()\n",
            "  )\n",
            ")\n"
          ]
        }
      ]
    },
    {
      "cell_type": "code",
      "metadata": {
        "id": "0NPEBjfwfk3c"
      },
      "source": [
        ""
      ],
      "execution_count": null,
      "outputs": []
    },
    {
      "cell_type": "code",
      "metadata": {
        "id": "xsh_OROkdiJ9"
      },
      "source": [
        "train_ds = Ex8_ds(x_train, y_train, vocab, params['max_length'], to_token_ids, params['padding_idx'])\n",
        "val_ds = Ex8_ds(x_valid, y_valid, vocab, params['max_length'], to_token_ids, params['padding_idx'])\n",
        "dataloader_train = DataLoader(train_ds, batch_size=hyperparameters['batch_size'], shuffle=True)\n",
        "dataloader_val = DataLoader(val_ds, batch_size=hyperparameters['batch_size'], shuffle=False)  "
      ],
      "execution_count": null,
      "outputs": []
    },
    {
      "cell_type": "code",
      "metadata": {
        "colab": {
          "base_uri": "https://localhost:8080/"
        },
        "id": "ocOHMFfNgEy9",
        "outputId": "9f52ed13-d7f4-4ab0-b5d6-ac62231d8d12"
      },
      "source": [
        "train_loop(dataloader_train, dataloader_val, hyperparameters, model)   "
      ],
      "execution_count": null,
      "outputs": [
        {
          "output_type": "stream",
          "name": "stdout",
          "text": [
            "Model: 210930_Aula8, Epoch: 1/20 - train_loss: 0.004256534589827061 - val_loss: 0.0033306549303233624 - acc: 81.6199951171875 %\n",
            "Model: 210930_Aula8 - best model in epoch: 1\n",
            "Model: 210930_Aula8, Epoch: 2/20 - train_loss: 0.002972125410288572 - val_loss: 0.003020460717380047 - acc: 83.5199966430664 %\n",
            "Model: 210930_Aula8 - best model in epoch: 2\n",
            "Model: 210930_Aula8, Epoch: 3/20 - train_loss: 0.0028059385791420937 - val_loss: 0.0029770592227578163 - acc: 83.80000305175781 %\n",
            "Model: 210930_Aula8 - best model in epoch: 3\n",
            "Model: 210930_Aula8, Epoch: 4/20 - train_loss: 0.002752784412354231 - val_loss: 0.003158652689307928 - acc: 82.04000091552734 %\n",
            "Model: 210930_Aula8, Epoch: 5/20 - train_loss: 0.0026589181378483774 - val_loss: 0.002874917583540082 - acc: 84.37999725341797 %\n",
            "Model: 210930_Aula8 - best model in epoch: 5\n",
            "Model: 210930_Aula8, Epoch: 6/20 - train_loss: 0.0026126854710280894 - val_loss: 0.002819853601977229 - acc: 84.6199951171875 %\n",
            "Model: 210930_Aula8 - best model in epoch: 6\n",
            "Model: 210930_Aula8, Epoch: 7/20 - train_loss: 0.002562553333491087 - val_loss: 0.0029114861972630024 - acc: 83.95999908447266 %\n",
            "Model: 210930_Aula8, Epoch: 8/20 - train_loss: 0.0024993220575153826 - val_loss: 0.0027404429856687784 - acc: 85.19999694824219 %\n",
            "Model: 210930_Aula8 - best model in epoch: 8\n",
            "Model: 210930_Aula8, Epoch: 9/20 - train_loss: 0.002449474808573723 - val_loss: 0.0027403642889112234 - acc: 85.1199951171875 %\n",
            "Model: 210930_Aula8 - best model in epoch: 9\n",
            "Model: 210930_Aula8, Epoch: 10/20 - train_loss: 0.00241970262080431 - val_loss: 0.0027120928280055523 - acc: 85.23999786376953 %\n",
            "Model: 210930_Aula8 - best model in epoch: 10\n",
            "Model: 210930_Aula8, Epoch: 11/20 - train_loss: 0.0023375720232725146 - val_loss: 0.0027799741365015507 - acc: 85.43999481201172 %\n",
            "Model: 210930_Aula8, Epoch: 12/20 - train_loss: 0.0023150346256792546 - val_loss: 0.0027778814546763897 - acc: 84.5 %\n",
            "Model: 210930_Aula8, Epoch: 13/20 - train_loss: 0.0022483509235084057 - val_loss: 0.002649464178830385 - acc: 86.0199966430664 %\n",
            "Model: 210930_Aula8 - best model in epoch: 13\n",
            "Model: 210930_Aula8, Epoch: 14/20 - train_loss: 0.0021888203643262386 - val_loss: 0.0027547699864953756 - acc: 84.86000061035156 %\n",
            "Model: 210930_Aula8, Epoch: 15/20 - train_loss: 0.002167686875164509 - val_loss: 0.0026512653566896915 - acc: 85.83999633789062 %\n",
            "Model: 210930_Aula8, Epoch: 16/20 - train_loss: 0.002091285568475723 - val_loss: 0.002690959954634309 - acc: 85.89999389648438 %\n",
            "Model: 210930_Aula8, Epoch: 17/20 - train_loss: 0.002020886690914631 - val_loss: 0.002708977786824107 - acc: 85.55999755859375 %\n",
            "Model: 210930_Aula8, Epoch: 18/20 - train_loss: 0.00200144557133317 - val_loss: 0.002728734863922 - acc: 85.45999145507812 %\n",
            "Model: 210930_Aula8, Epoch: 19/20 - train_loss: 0.0019048054039478301 - val_loss: 0.002787460573017597 - acc: 85.73999786376953 %\n",
            "Model: 210930_Aula8, Epoch: 20/20 - train_loss: 0.0018555436547845602 - val_loss: 0.002832509810104966 - acc: 85.55999755859375 %\n"
          ]
        }
      ]
    },
    {
      "cell_type": "code",
      "metadata": {
        "id": "Dm9LjclygJdj"
      },
      "source": [
        "del train_ds\n",
        "del val_ds\n",
        "del dataloader_train\n",
        "del dataloader_val"
      ],
      "execution_count": null,
      "outputs": []
    },
    {
      "cell_type": "code",
      "metadata": {
        "colab": {
          "base_uri": "https://localhost:8080/"
        },
        "id": "fgTjkatrgKJK",
        "outputId": "312c5ce3-750e-46d4-8606-345248846c4f"
      },
      "source": [
        "test_ds = Ex8_ds(x_test, y_test, vocab, params['max_length'], to_token_ids, params['padding_idx'])\n",
        "dataloader_test = DataLoader(test_ds, batch_size=hyperparameters['batch_size'], shuffle=False)  \n",
        "print(predict(model,dataloader_test))"
      ],
      "execution_count": null,
      "outputs": [
        {
          "output_type": "stream",
          "name": "stdout",
          "text": [
            "{'loss': tensor(0.0026017819, device='cuda:0'), 'acc': tensor(0.8535599709, device='cuda:0')}\n"
          ]
        }
      ]
    },
    {
      "cell_type": "code",
      "metadata": {
        "colab": {
          "base_uri": "https://localhost:8080/"
        },
        "id": "ekIeofnugRXh",
        "outputId": "44c5558f-5966-41f7-fb70-393b5c3fd9e6"
      },
      "source": [
        "run.stop()"
      ],
      "execution_count": null,
      "outputs": [
        {
          "output_type": "stream",
          "name": "stdout",
          "text": [
            "Shutting down background jobs, please wait a moment...\n",
            "Done!\n"
          ]
        },
        {
          "output_type": "stream",
          "name": "stderr",
          "text": [
            "Waiting for the remaining 3 operations to synchronize with Neptune. Do not kill this process.\n"
          ]
        },
        {
          "output_type": "stream",
          "name": "stdout",
          "text": [
            "All 3 operations synced, thanks for waiting!\n"
          ]
        }
      ]
    },
    {
      "cell_type": "code",
      "metadata": {
        "id": "OtPHKSmiwRDU"
      },
      "source": [
        ""
      ],
      "execution_count": null,
      "outputs": []
    }
  ]
}